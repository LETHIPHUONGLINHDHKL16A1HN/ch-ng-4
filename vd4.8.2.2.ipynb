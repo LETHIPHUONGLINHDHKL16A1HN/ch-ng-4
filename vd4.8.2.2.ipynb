{
 "cells": [
  {
   "cell_type": "code",
   "execution_count": 1,
   "metadata": {},
   "outputs": [],
   "source": [
    "import numpy as np\n",
    "import pandas as pd"
   ]
  },
  {
   "cell_type": "code",
   "execution_count": 2,
   "metadata": {},
   "outputs": [
    {
     "data": {
      "text/html": [
       "<div>\n",
       "<style scoped>\n",
       "    .dataframe tbody tr th:only-of-type {\n",
       "        vertical-align: middle;\n",
       "    }\n",
       "\n",
       "    .dataframe tbody tr th {\n",
       "        vertical-align: top;\n",
       "    }\n",
       "\n",
       "    .dataframe thead th {\n",
       "        text-align: right;\n",
       "    }\n",
       "</style>\n",
       "<table border=\"1\" class=\"dataframe\">\n",
       "  <thead>\n",
       "    <tr style=\"text-align: right;\">\n",
       "      <th></th>\n",
       "      <th>ten hs</th>\n",
       "      <th>môn</th>\n",
       "      <th>điểm</th>\n",
       "    </tr>\n",
       "  </thead>\n",
       "  <tbody>\n",
       "    <tr>\n",
       "      <th>0</th>\n",
       "      <td>bình</td>\n",
       "      <td>toán</td>\n",
       "      <td>8</td>\n",
       "    </tr>\n",
       "    <tr>\n",
       "      <th>1</th>\n",
       "      <td>hoa</td>\n",
       "      <td>lý</td>\n",
       "      <td>9</td>\n",
       "    </tr>\n",
       "    <tr>\n",
       "      <th>2</th>\n",
       "      <td>minh</td>\n",
       "      <td>toán</td>\n",
       "      <td>7</td>\n",
       "    </tr>\n",
       "    <tr>\n",
       "      <th>3</th>\n",
       "      <td>lan</td>\n",
       "      <td>hóa</td>\n",
       "      <td>6</td>\n",
       "    </tr>\n",
       "    <tr>\n",
       "      <th>4</th>\n",
       "      <td>van</td>\n",
       "      <td>lý</td>\n",
       "      <td>8</td>\n",
       "    </tr>\n",
       "  </tbody>\n",
       "</table>\n",
       "</div>"
      ],
      "text/plain": [
       "  ten hs   môn  điểm\n",
       "0   bình  toán     8\n",
       "1    hoa    lý     9\n",
       "2   minh  toán     7\n",
       "3    lan   hóa     6\n",
       "4    van    lý     8"
      ]
     },
     "execution_count": 2,
     "metadata": {},
     "output_type": "execute_result"
    }
   ],
   "source": [
    "data={'ten hs':['bình','hoa','minh','lan','van'],\n",
    "      'môn':['toán','lý','toán','hóa','lý'],\n",
    "      'điểm':[8,9,7,6,8]}\n",
    "df=pd.DataFrame(data)\n",
    "df"
   ]
  },
  {
   "cell_type": "code",
   "execution_count": 3,
   "metadata": {},
   "outputs": [
    {
     "ename": "NameError",
     "evalue": "name 'df_group' is not defined",
     "output_type": "error",
     "traceback": [
      "\u001b[1;31m---------------------------------------------------------------------------\u001b[0m",
      "\u001b[1;31mNameError\u001b[0m                                 Traceback (most recent call last)",
      "\u001b[1;32md:\\python nâng cao\\chương 4\\vd4.8.2.2.ipynb Cell 3\u001b[0m line \u001b[0;36m1\n\u001b[1;32m----> <a href='vscode-notebook-cell:/d%3A/python%20n%C3%A2ng%20cao/ch%C6%B0%C6%A1ng%204/vd4.8.2.2.ipynb#W2sZmlsZQ%3D%3D?line=0'>1</a>\u001b[0m \u001b[39mprint\u001b[39m(df_group\u001b[39m.\u001b[39msum()) \n",
      "\u001b[1;31mNameError\u001b[0m: name 'df_group' is not defined"
     ]
    }
   ],
   "source": [
    "print(df_group.sum()) "
   ]
  },
  {
   "cell_type": "code",
   "execution_count": 4,
   "metadata": {},
   "outputs": [
    {
     "name": "stdout",
     "output_type": "stream",
     "text": [
      "df: \n",
      "   key  giatri_1  giatri_2\n",
      "0   A        86         7\n",
      "1   B        87         4\n",
      "2   C        88         9\n",
      "3   A        21         3\n",
      "4   B        26         4\n",
      "5   C        79         4\n",
      "\n",
      "key:  A\n",
      "value: \n",
      "   key  giatri_1  giatri_2\n",
      "0   A        86         7\n",
      "3   A        21         3\n",
      "\n",
      "key:  B\n",
      "value: \n",
      "   key  giatri_1  giatri_2\n",
      "1   B        87         4\n",
      "4   B        26         4\n",
      "\n",
      "key:  C\n",
      "value: \n",
      "   key  giatri_1  giatri_2\n",
      "2   C        88         9\n",
      "5   C        79         4\n"
     ]
    }
   ],
   "source": [
    "import numpy as np\n",
    "import pandas as pd\n",
    "df = pd.DataFrame(\n",
    " {\n",
    " 'key':['A','B','C','A','B','C'],\n",
    " 'giatri_1':np.random.randint(10,100,6),  'giatri_2':np.random.randint(0,10,6)  },\n",
    " columns=['key','giatri_1','giatri_2']\n",
    ")\n",
    "print(\"df: \\n\",df)\n",
    "for key, giatri in df.groupby('key'):\n",
    " print(\"\\nkey: \",key)\n",
    " print(\"value: \\n\",giatri) "
   ]
  }
 ],
 "metadata": {
  "kernelspec": {
   "display_name": "Python 3",
   "language": "python",
   "name": "python3"
  },
  "language_info": {
   "codemirror_mode": {
    "name": "ipython",
    "version": 3
   },
   "file_extension": ".py",
   "mimetype": "text/x-python",
   "name": "python",
   "nbconvert_exporter": "python",
   "pygments_lexer": "ipython3",
   "version": "3.11.6"
  }
 },
 "nbformat": 4,
 "nbformat_minor": 2
}
