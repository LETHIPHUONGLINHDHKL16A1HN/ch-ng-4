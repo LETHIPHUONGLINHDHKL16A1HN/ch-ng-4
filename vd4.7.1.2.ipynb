{
 "cells": [
  {
   "cell_type": "code",
   "execution_count": 2,
   "metadata": {},
   "outputs": [],
   "source": [
    "import pandas as pd"
   ]
  },
  {
   "cell_type": "code",
   "execution_count": 3,
   "metadata": {},
   "outputs": [
    {
     "name": "stdout",
     "output_type": "stream",
     "text": [
      "Dữ liệu df1:\n",
      "   Nhân viên Phòng/Ban\n",
      "0      Bình   Kế toán\n",
      "1      Minh  Kỹ thuật\n",
      "2       Lan  Kỹ thuật\n",
      "3       Vân      HCQT\n",
      "\n",
      " Dữ liệu df2:\n",
      "   Nhân viên   Năm\n",
      "0      Bình  2020\n",
      "1      Minh  2010\n",
      "2       Lan  2004\n",
      "3       Vân  2011\n",
      "  Nhân viên Phòng/Ban   Năm\n",
      "0      Bình   Kế toán  2020\n",
      "1      Minh  Kỹ thuật  2010\n",
      "2       Lan  Kỹ thuật  2004\n",
      "3       Vân      HCQT  2011\n"
     ]
    }
   ],
   "source": [
    "#One-to-one joins\n",
    "df1=pd.DataFrame(\n",
    " {\n",
    " 'Nhân viên':['Bình','Minh','Lan','Vân'],\n",
    " 'Phòng/Ban':['Kế toán','Kỹ thuật','Kỹ thuật','HCQT']  }\n",
    ")\n",
    "df2=pd.DataFrame(\n",
    " {\n",
    " 'Nhân viên':['Bình','Minh','Lan','Vân'],\n",
    " 'Năm':[2020,2010,2004,2011]\n",
    " }\n",
    ")\n",
    "print(\"Dữ liệu df1:\\n\",df1)\n",
    "print(\"\\n Dữ liệu df2:\\n\",df2)\n",
    "nhanvien=pd.merge(df1,df2) #nhanvien ~ df3\n",
    "print(nhanvien) "
   ]
  },
  {
   "cell_type": "code",
   "execution_count": 4,
   "metadata": {},
   "outputs": [
    {
     "ename": "SyntaxError",
     "evalue": "invalid syntax (2779893895.py, line 1)",
     "output_type": "error",
     "traceback": [
      "\u001b[1;36m  Cell \u001b[1;32mIn[4], line 1\u001b[1;36m\u001b[0m\n\u001b[1;33m    Dữ liệu df1:\u001b[0m\n\u001b[1;37m       ^\u001b[0m\n\u001b[1;31mSyntaxError\u001b[0m\u001b[1;31m:\u001b[0m invalid syntax\n"
     ]
    }
   ],
   "source": [
    "Dữ liệu df1:\n",
    " Nhân viên Phòng/Ban\n",
    "0 Bình Kế toán\n",
    "1 Minh Kỹ thuật\n",
    "2 Lan Kỹ thuật\n",
    "3 Vân HCQT\n",
    " Dữ liệu df2:\n",
    " Nhân viên Năm\n",
    "0 Bình 2020\n",
    "1 Minh 2010\n",
    "2 Lan 2004\n",
    "3 Vân 2011\n",
    " Nhân viên Phòng/Ban Năm\n",
    "0 Bình Kế toán 2020\n",
    "1 Minh Kỹ thuật 2010\n",
    "2 Lan Kỹ thuật 2004\n",
    "3 Vân HCQT 2011"
   ]
  },
  {
   "cell_type": "code",
   "execution_count": 5,
   "metadata": {},
   "outputs": [],
   "source": [
    "import pandas as pd\n",
    "import numpy as np\n"
   ]
  },
  {
   "cell_type": "code",
   "execution_count": 11,
   "metadata": {},
   "outputs": [
    {
     "ename": "AttributeError",
     "evalue": "module 'pandas' has no attribute 'read_exceḷ'",
     "output_type": "error",
     "traceback": [
      "\u001b[1;31m---------------------------------------------------------------------------\u001b[0m",
      "\u001b[1;31mAttributeError\u001b[0m                            Traceback (most recent call last)",
      "\u001b[1;32md:\\python nâng cao\\chương 4\\vd4.7.1.2.ipynb Cell 5\u001b[0m line \u001b[0;36m1\n\u001b[1;32m----> <a href='vscode-notebook-cell:/d%3A/python%20n%C3%A2ng%20cao/ch%C6%B0%C6%A1ng%204/vd4.7.1.2.ipynb#W4sZmlsZQ%3D%3D?line=0'>1</a>\u001b[0m datavn_raw\u001b[39m=\u001b[39mpd\u001b[39m.\u001b[39;49mread_exceḷ(\u001b[39m'\u001b[39m\u001b[39m./data19_21.xlsx\u001b[39m\u001b[39m'\u001b[39m)\n\u001b[0;32m      <a href='vscode-notebook-cell:/d%3A/python%20n%C3%A2ng%20cao/ch%C6%B0%C6%A1ng%204/vd4.7.1.2.ipynb#W4sZmlsZQ%3D%3D?line=1'>2</a>\u001b[0m \u001b[39mprint\u001b[39m(datavn_raw)\n",
      "\u001b[1;31mAttributeError\u001b[0m: module 'pandas' has no attribute 'read_exceḷ'"
     ]
    }
   ],
   "source": [
    "datavn_raw=pd.read_exceḷ('./data19_21.xlsx')\n",
    "print(datavn_raw)"
   ]
  },
  {
   "cell_type": "code",
   "execution_count": null,
   "metadata": {},
   "outputs": [],
   "source": []
  }
 ],
 "metadata": {
  "kernelspec": {
   "display_name": "Python 3",
   "language": "python",
   "name": "python3"
  },
  "language_info": {
   "codemirror_mode": {
    "name": "ipython",
    "version": 3
   },
   "file_extension": ".py",
   "mimetype": "text/x-python",
   "name": "python",
   "nbconvert_exporter": "python",
   "pygments_lexer": "ipython3",
   "version": "3.11.6"
  }
 },
 "nbformat": 4,
 "nbformat_minor": 2
}
