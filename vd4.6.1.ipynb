{
 "cells": [
  {
   "cell_type": "code",
   "execution_count": 53,
   "metadata": {},
   "outputs": [
    {
     "data": {
      "text/plain": [
       "(Hà Nội, 2015)         7216000\n",
       "(Hà Nội, 2020)         8246540\n",
       "(Nam Định, 2015)       1850600\n",
       "(Nam Định, 2020)       1780330\n",
       "(Thanh Hóa, 2015)      3514200\n",
       "(Thanh Hóa, 2020)      3664940\n",
       "(Đà Nẵng, 2015)        1028800\n",
       "(Đà Nẵng, 2020)        1169480\n",
       "(Hồ Chí Minh, 2015)    8146300\n",
       "(Hồ Chí Minh, 2020)    9227600\n",
       "dtype: int64"
      ]
     },
     "execution_count": 53,
     "metadata": {},
     "output_type": "execute_result"
    }
   ],
   "source": [
    "import pandas as pd\n",
    "#Tuples đại diện cho tỉnh thành phố - Năm tương ứng\n",
    "index=[('Hà Nội',2015),('Hà Nội',2020),\n",
    " ('Nam Định',2015),('Nam Định',2020),\n",
    " ('Thanh Hóa',2015),('Thanh Hóa',2020),\n",
    " ('Đà Nẵng',2015),('Đà Nẵng',2020),\n",
    " ('Hồ Chí Minh',2015),('Hồ Chí Minh',2020)]\n",
    "data=[ 7216000, 8246540,\n",
    " 1850600, 1780330,\n",
    "3514200, 3664940,\n",
    "1028800, 1169480,\n",
    "8146300, 9227600]\n",
    "vn_pop = pd.Series(data, index=index)\n",
    "vn_pop "
   ]
  },
  {
   "cell_type": "code",
   "execution_count": 54,
   "metadata": {},
   "outputs": [],
   "source": [
    "import pandas as pd"
   ]
  },
  {
   "cell_type": "code",
   "execution_count": 55,
   "metadata": {},
   "outputs": [
    {
     "data": {
      "text/plain": [
       "(Hà Nội, 2015)      7216000\n",
       "(Hà Nội, 2020)      8246540\n",
       "(Nam Định, 2015)    1850600\n",
       "dtype: int64"
      ]
     },
     "execution_count": 55,
     "metadata": {},
     "output_type": "execute_result"
    }
   ],
   "source": [
    "vn_pop[('Hà Nội',2015):('Nam Định',2015)]"
   ]
  },
  {
   "cell_type": "code",
   "execution_count": null,
   "metadata": {},
   "outputs": [],
   "source": []
  },
  {
   "cell_type": "code",
   "execution_count": 56,
   "metadata": {},
   "outputs": [
    {
     "data": {
      "text/plain": [
       "MultiIndex([(     'Hà Nội', 2015),\n",
       "            (     'Hà Nội', 2020),\n",
       "            (   'Nam Định', 2015),\n",
       "            (   'Nam Định', 2020),\n",
       "            (  'Thanh Hóa', 2015),\n",
       "            (  'Thanh Hóa', 2020),\n",
       "            (    'Đà Nẵng', 2015),\n",
       "            (    'Đà Nẵng', 2020),\n",
       "            ('Hồ Chí Minh', 2015),\n",
       "            ('Hồ Chí Minh', 2020)],\n",
       "           names=['Tỉnh/TP', 'Năm'])"
      ]
     },
     "execution_count": 56,
     "metadata": {},
     "output_type": "execute_result"
    }
   ],
   "source": [
    "idx=pd.MultiIndex.from_tuples(index,names=['Tỉnh/TP','Năm']) \n",
    "idx"
   ]
  },
  {
   "cell_type": "code",
   "execution_count": 57,
   "metadata": {},
   "outputs": [
    {
     "data": {
      "text/plain": [
       "(Hà Nội, 2020)         8246540\n",
       "(Nam Định, 2020)       1780330\n",
       "(Thanh Hóa, 2020)      3664940\n",
       "(Đà Nẵng, 2020)        1169480\n",
       "(Hồ Chí Minh, 2020)    9227600\n",
       "dtype: int64"
      ]
     },
     "execution_count": 57,
     "metadata": {},
     "output_type": "execute_result"
    }
   ],
   "source": [
    "vn_pop[[i for i in vn_pop.index if i[1]==2020]] "
   ]
  },
  {
   "cell_type": "code",
   "execution_count": 58,
   "metadata": {},
   "outputs": [
    {
     "data": {
      "text/plain": [
       "MultiIndex([(     'Hà Nội', 2015),\n",
       "            (     'Hà Nội', 2020),\n",
       "            (   'Nam Định', 2015),\n",
       "            (   'Nam Định', 2020),\n",
       "            (  'Thanh Hóa', 2015),\n",
       "            (  'Thanh Hóa', 2020),\n",
       "            (    'Đà Nẵng', 2015),\n",
       "            (    'Đà Nẵng', 2020),\n",
       "            ('Hồ Chí Minh', 2015),\n",
       "            ('Hồ Chí Minh', 2020)],\n",
       "           names=['Tỉnh/TP', 'Năm'])"
      ]
     },
     "execution_count": 58,
     "metadata": {},
     "output_type": "execute_result"
    }
   ],
   "source": [
    "idx=pd.MultiIndex.from_tuples(index,\n",
    "names=['Tỉnh/TP','Năm'])\n",
    "idx"
   ]
  },
  {
   "cell_type": "code",
   "execution_count": 59,
   "metadata": {},
   "outputs": [
    {
     "data": {
      "text/plain": [
       "Tỉnh/TP      Năm \n",
       "Hà Nội       2015    7216000\n",
       "             2020    8246540\n",
       "Nam Định     2015    1850600\n",
       "             2020    1780330\n",
       "Thanh Hóa    2015    3514200\n",
       "             2020    3664940\n",
       "Đà Nẵng      2015    1028800\n",
       "             2020    1169480\n",
       "Hồ Chí Minh  2015    8146300\n",
       "             2020    9227600\n",
       "dtype: int64"
      ]
     },
     "execution_count": 59,
     "metadata": {},
     "output_type": "execute_result"
    }
   ],
   "source": [
    "vn_pop = vn_pop.reindex(idx)\n",
    "vn_pop"
   ]
  },
  {
   "cell_type": "code",
   "execution_count": 60,
   "metadata": {},
   "outputs": [
    {
     "data": {
      "text/plain": [
       "Tỉnh/TP\n",
       "Hà Nội         8246540\n",
       "Nam Định       1780330\n",
       "Thanh Hóa      3664940\n",
       "Đà Nẵng        1169480\n",
       "Hồ Chí Minh    9227600\n",
       "dtype: int64"
      ]
     },
     "execution_count": 60,
     "metadata": {},
     "output_type": "execute_result"
    }
   ],
   "source": [
    "vn_pop[:,2020]"
   ]
  },
  {
   "cell_type": "code",
   "execution_count": 61,
   "metadata": {},
   "outputs": [
    {
     "name": "stdout",
     "output_type": "stream",
     "text": [
      "Tỉnh/TP      Năm \n",
      "Hà Nội       2015    7216000\n",
      "             2020    8246540\n",
      "Nam Định     2015    1850600\n",
      "             2020    1780330\n",
      "Thanh Hóa    2015    3514200\n",
      "             2020    3664940\n",
      "Đà Nẵng      2015    1028800\n",
      "             2020    1169480\n",
      "Hồ Chí Minh  2015    8146300\n",
      "             2020    9227600\n",
      "dtype: int64 \n",
      "\n"
     ]
    },
    {
     "data": {
      "text/html": [
       "<div>\n",
       "<style scoped>\n",
       "    .dataframe tbody tr th:only-of-type {\n",
       "        vertical-align: middle;\n",
       "    }\n",
       "\n",
       "    .dataframe tbody tr th {\n",
       "        vertical-align: top;\n",
       "    }\n",
       "\n",
       "    .dataframe thead th {\n",
       "        text-align: right;\n",
       "    }\n",
       "</style>\n",
       "<table border=\"1\" class=\"dataframe\">\n",
       "  <thead>\n",
       "    <tr style=\"text-align: right;\">\n",
       "      <th>Năm</th>\n",
       "      <th>2015</th>\n",
       "      <th>2020</th>\n",
       "    </tr>\n",
       "    <tr>\n",
       "      <th>Tỉnh/TP</th>\n",
       "      <th></th>\n",
       "      <th></th>\n",
       "    </tr>\n",
       "  </thead>\n",
       "  <tbody>\n",
       "    <tr>\n",
       "      <th>Hà Nội</th>\n",
       "      <td>7216000</td>\n",
       "      <td>8246540</td>\n",
       "    </tr>\n",
       "    <tr>\n",
       "      <th>Hồ Chí Minh</th>\n",
       "      <td>8146300</td>\n",
       "      <td>9227600</td>\n",
       "    </tr>\n",
       "    <tr>\n",
       "      <th>Nam Định</th>\n",
       "      <td>1850600</td>\n",
       "      <td>1780330</td>\n",
       "    </tr>\n",
       "    <tr>\n",
       "      <th>Thanh Hóa</th>\n",
       "      <td>3514200</td>\n",
       "      <td>3664940</td>\n",
       "    </tr>\n",
       "    <tr>\n",
       "      <th>Đà Nẵng</th>\n",
       "      <td>1028800</td>\n",
       "      <td>1169480</td>\n",
       "    </tr>\n",
       "  </tbody>\n",
       "</table>\n",
       "</div>"
      ],
      "text/plain": [
       "Năm             2015     2020\n",
       "Tỉnh/TP                      \n",
       "Hà Nội       7216000  8246540\n",
       "Hồ Chí Minh  8146300  9227600\n",
       "Nam Định     1850600  1780330\n",
       "Thanh Hóa    3514200  3664940\n",
       "Đà Nẵng      1028800  1169480"
      ]
     },
     "execution_count": 61,
     "metadata": {},
     "output_type": "execute_result"
    }
   ],
   "source": [
    "print(vn_pop,'\\n')\n",
    "vn_pop_df = vn_pop.unstack()\n",
    "vn_pop_df"
   ]
  },
  {
   "cell_type": "code",
   "execution_count": 62,
   "metadata": {},
   "outputs": [
    {
     "data": {
      "text/plain": [
       "Tỉnh/TP      Năm \n",
       "Hà Nội       2015    7216000\n",
       "             2020    8246540\n",
       "Hồ Chí Minh  2015    8146300\n",
       "             2020    9227600\n",
       "Nam Định     2015    1850600\n",
       "             2020    1780330\n",
       "Thanh Hóa    2015    3514200\n",
       "             2020    3664940\n",
       "Đà Nẵng      2015    1028800\n",
       "             2020    1169480\n",
       "dtype: int64"
      ]
     },
     "execution_count": 62,
     "metadata": {},
     "output_type": "execute_result"
    }
   ],
   "source": [
    "vn_pop_df.stack()"
   ]
  },
  {
   "cell_type": "code",
   "execution_count": 63,
   "metadata": {},
   "outputs": [
    {
     "data": {
      "text/html": [
       "<div>\n",
       "<style scoped>\n",
       "    .dataframe tbody tr th:only-of-type {\n",
       "        vertical-align: middle;\n",
       "    }\n",
       "\n",
       "    .dataframe tbody tr th {\n",
       "        vertical-align: top;\n",
       "    }\n",
       "\n",
       "    .dataframe thead th {\n",
       "        text-align: right;\n",
       "    }\n",
       "</style>\n",
       "<table border=\"1\" class=\"dataframe\">\n",
       "  <thead>\n",
       "    <tr style=\"text-align: right;\">\n",
       "      <th></th>\n",
       "      <th></th>\n",
       "      <th>tổng dân số</th>\n",
       "      <th>có việc</th>\n",
       "    </tr>\n",
       "    <tr>\n",
       "      <th>Tỉnh/TP</th>\n",
       "      <th>Năm</th>\n",
       "      <th></th>\n",
       "      <th></th>\n",
       "    </tr>\n",
       "  </thead>\n",
       "  <tbody>\n",
       "    <tr>\n",
       "      <th rowspan=\"2\" valign=\"top\">Hà Nội</th>\n",
       "      <th>2015</th>\n",
       "      <td>7216000</td>\n",
       "      <td>3752320</td>\n",
       "    </tr>\n",
       "    <tr>\n",
       "      <th>2020</th>\n",
       "      <td>8246540</td>\n",
       "      <td>4042454</td>\n",
       "    </tr>\n",
       "    <tr>\n",
       "      <th rowspan=\"2\" valign=\"top\">Nam Định</th>\n",
       "      <th>2015</th>\n",
       "      <td>1850600</td>\n",
       "      <td>2080750</td>\n",
       "    </tr>\n",
       "    <tr>\n",
       "      <th>2020</th>\n",
       "      <td>1780330</td>\n",
       "      <td>1011049</td>\n",
       "    </tr>\n",
       "    <tr>\n",
       "      <th rowspan=\"2\" valign=\"top\">Thanh Hóa</th>\n",
       "      <th>2015</th>\n",
       "      <td>3514200</td>\n",
       "      <td>2199889</td>\n",
       "    </tr>\n",
       "    <tr>\n",
       "      <th>2020</th>\n",
       "      <td>3664940</td>\n",
       "      <td>2190535</td>\n",
       "    </tr>\n",
       "    <tr>\n",
       "      <th rowspan=\"2\" valign=\"top\">Đà Nẵng</th>\n",
       "      <th>2015</th>\n",
       "      <td>1028800</td>\n",
       "      <td>534976</td>\n",
       "    </tr>\n",
       "    <tr>\n",
       "      <th>2020</th>\n",
       "      <td>1169480</td>\n",
       "      <td>534452</td>\n",
       "    </tr>\n",
       "    <tr>\n",
       "      <th rowspan=\"2\" valign=\"top\">Hồ Chí Minh</th>\n",
       "      <th>2015</th>\n",
       "      <td>8146300</td>\n",
       "      <td>4236067</td>\n",
       "    </tr>\n",
       "    <tr>\n",
       "      <th>2020</th>\n",
       "      <td>9227600</td>\n",
       "      <td>4589808</td>\n",
       "    </tr>\n",
       "  </tbody>\n",
       "</table>\n",
       "</div>"
      ],
      "text/plain": [
       "                  tổng dân số  có việc\n",
       "Tỉnh/TP     Năm                       \n",
       "Hà Nội      2015      7216000  3752320\n",
       "            2020      8246540  4042454\n",
       "Nam Định    2015      1850600  2080750\n",
       "            2020      1780330  1011049\n",
       "Thanh Hóa   2015      3514200  2199889\n",
       "            2020      3664940  2190535\n",
       "Đà Nẵng     2015      1028800   534976\n",
       "            2020      1169480   534452\n",
       "Hồ Chí Minh 2015      8146300  4236067\n",
       "            2020      9227600  4589808"
      ]
     },
     "execution_count": 63,
     "metadata": {},
     "output_type": "execute_result"
    }
   ],
   "source": [
    "vn_pop_df = pd.DataFrame({'tổng dân số':vn_pop,'có việc':[3752320,4042454,\n",
    "                                                         2080750,1011049,\n",
    "                                                         2199889,2190535,\n",
    "                                                         534976,534452,\n",
    "                                                         4236067,4589808]})\n",
    "vn_pop_df"
   ]
  },
  {
   "cell_type": "code",
   "execution_count": null,
   "metadata": {},
   "outputs": [],
   "source": []
  },
  {
   "cell_type": "code",
   "execution_count": 64,
   "metadata": {},
   "outputs": [
    {
     "data": {
      "text/html": [
       "<div>\n",
       "<style scoped>\n",
       "    .dataframe tbody tr th:only-of-type {\n",
       "        vertical-align: middle;\n",
       "    }\n",
       "\n",
       "    .dataframe tbody tr th {\n",
       "        vertical-align: top;\n",
       "    }\n",
       "\n",
       "    .dataframe thead th {\n",
       "        text-align: right;\n",
       "    }\n",
       "</style>\n",
       "<table border=\"1\" class=\"dataframe\">\n",
       "  <thead>\n",
       "    <tr style=\"text-align: right;\">\n",
       "      <th></th>\n",
       "      <th></th>\n",
       "      <th>Value1</th>\n",
       "      <th>Value2</th>\n",
       "      <th>Value3</th>\n",
       "    </tr>\n",
       "    <tr>\n",
       "      <th>key1</th>\n",
       "      <th>key2</th>\n",
       "      <th></th>\n",
       "      <th></th>\n",
       "      <th></th>\n",
       "    </tr>\n",
       "  </thead>\n",
       "  <tbody>\n",
       "    <tr>\n",
       "      <th rowspan=\"3\" valign=\"top\">a</th>\n",
       "      <th>1</th>\n",
       "      <td>0.839083</td>\n",
       "      <td>-0.384547</td>\n",
       "      <td>-0.805906</td>\n",
       "    </tr>\n",
       "    <tr>\n",
       "      <th>2</th>\n",
       "      <td>-0.053766</td>\n",
       "      <td>0.530508</td>\n",
       "      <td>-1.880028</td>\n",
       "    </tr>\n",
       "    <tr>\n",
       "      <th>3</th>\n",
       "      <td>4.368681</td>\n",
       "      <td>-0.395769</td>\n",
       "      <td>0.205611</td>\n",
       "    </tr>\n",
       "    <tr>\n",
       "      <th rowspan=\"3\" valign=\"top\">b</th>\n",
       "      <th>1</th>\n",
       "      <td>-0.124250</td>\n",
       "      <td>-1.234872</td>\n",
       "      <td>1.522301</td>\n",
       "    </tr>\n",
       "    <tr>\n",
       "      <th>2</th>\n",
       "      <td>-0.274704</td>\n",
       "      <td>2.648895</td>\n",
       "      <td>2.209337</td>\n",
       "    </tr>\n",
       "    <tr>\n",
       "      <th>3</th>\n",
       "      <td>-0.143080</td>\n",
       "      <td>-1.052745</td>\n",
       "      <td>0.610471</td>\n",
       "    </tr>\n",
       "  </tbody>\n",
       "</table>\n",
       "</div>"
      ],
      "text/plain": [
       "             Value1    Value2    Value3\n",
       "key1 key2                              \n",
       "a    1     0.839083 -0.384547 -0.805906\n",
       "     2    -0.053766  0.530508 -1.880028\n",
       "     3     4.368681 -0.395769  0.205611\n",
       "b    1    -0.124250 -1.234872  1.522301\n",
       "     2    -0.274704  2.648895  2.209337\n",
       "     3    -0.143080 -1.052745  0.610471"
      ]
     },
     "execution_count": 64,
     "metadata": {},
     "output_type": "execute_result"
    }
   ],
   "source": [
    "arr1 = ['a','b']\n",
    "arr2 = [1, 2, 3]\n",
    "multi_idx=pd.MultiIndex.from_product([arr1,arr2],\n",
    "                         names=['key1','key2']) \n",
    "df = pd.DataFrame(np.random.randn(6,3),\n",
    " index = multi_idx,\n",
    " columns = ['Value1', 'Value2', 'Value3'])\n",
    "df"
   ]
  },
  {
   "cell_type": "code",
   "execution_count": 65,
   "metadata": {},
   "outputs": [
    {
     "data": {
      "text/html": [
       "<div>\n",
       "<style scoped>\n",
       "    .dataframe tbody tr th:only-of-type {\n",
       "        vertical-align: middle;\n",
       "    }\n",
       "\n",
       "    .dataframe tbody tr th {\n",
       "        vertical-align: top;\n",
       "    }\n",
       "\n",
       "    .dataframe thead tr th {\n",
       "        text-align: left;\n",
       "    }\n",
       "\n",
       "    .dataframe thead tr:last-of-type th {\n",
       "        text-align: right;\n",
       "    }\n",
       "</style>\n",
       "<table border=\"1\" class=\"dataframe\">\n",
       "  <thead>\n",
       "    <tr>\n",
       "      <th></th>\n",
       "      <th>Học sinh</th>\n",
       "      <th colspan=\"3\" halign=\"left\">Bình</th>\n",
       "      <th colspan=\"3\" halign=\"left\">Lan</th>\n",
       "      <th colspan=\"3\" halign=\"left\">Vân</th>\n",
       "    </tr>\n",
       "    <tr>\n",
       "      <th></th>\n",
       "      <th>Môn học</th>\n",
       "      <th>Toán</th>\n",
       "      <th>Lý</th>\n",
       "      <th>Hóa</th>\n",
       "      <th>Toán</th>\n",
       "      <th>Lý</th>\n",
       "      <th>Hóa</th>\n",
       "      <th>Toán</th>\n",
       "      <th>Lý</th>\n",
       "      <th>Hóa</th>\n",
       "    </tr>\n",
       "    <tr>\n",
       "      <th>Năm</th>\n",
       "      <th>Lần thi</th>\n",
       "      <th></th>\n",
       "      <th></th>\n",
       "      <th></th>\n",
       "      <th></th>\n",
       "      <th></th>\n",
       "      <th></th>\n",
       "      <th></th>\n",
       "      <th></th>\n",
       "      <th></th>\n",
       "    </tr>\n",
       "  </thead>\n",
       "  <tbody>\n",
       "    <tr>\n",
       "      <th rowspan=\"3\" valign=\"top\">2020</th>\n",
       "      <th>1</th>\n",
       "      <td>9</td>\n",
       "      <td>9</td>\n",
       "      <td>6</td>\n",
       "      <td>6</td>\n",
       "      <td>7</td>\n",
       "      <td>9</td>\n",
       "      <td>5</td>\n",
       "      <td>9</td>\n",
       "      <td>8</td>\n",
       "    </tr>\n",
       "    <tr>\n",
       "      <th>2</th>\n",
       "      <td>9</td>\n",
       "      <td>9</td>\n",
       "      <td>5</td>\n",
       "      <td>9</td>\n",
       "      <td>5</td>\n",
       "      <td>6</td>\n",
       "      <td>7</td>\n",
       "      <td>9</td>\n",
       "      <td>5</td>\n",
       "    </tr>\n",
       "    <tr>\n",
       "      <th>3</th>\n",
       "      <td>8</td>\n",
       "      <td>9</td>\n",
       "      <td>5</td>\n",
       "      <td>5</td>\n",
       "      <td>6</td>\n",
       "      <td>5</td>\n",
       "      <td>5</td>\n",
       "      <td>6</td>\n",
       "      <td>9</td>\n",
       "    </tr>\n",
       "    <tr>\n",
       "      <th rowspan=\"3\" valign=\"top\">2021</th>\n",
       "      <th>1</th>\n",
       "      <td>8</td>\n",
       "      <td>6</td>\n",
       "      <td>6</td>\n",
       "      <td>7</td>\n",
       "      <td>8</td>\n",
       "      <td>6</td>\n",
       "      <td>6</td>\n",
       "      <td>7</td>\n",
       "      <td>9</td>\n",
       "    </tr>\n",
       "    <tr>\n",
       "      <th>2</th>\n",
       "      <td>8</td>\n",
       "      <td>5</td>\n",
       "      <td>8</td>\n",
       "      <td>6</td>\n",
       "      <td>7</td>\n",
       "      <td>5</td>\n",
       "      <td>6</td>\n",
       "      <td>9</td>\n",
       "      <td>8</td>\n",
       "    </tr>\n",
       "    <tr>\n",
       "      <th>3</th>\n",
       "      <td>7</td>\n",
       "      <td>5</td>\n",
       "      <td>7</td>\n",
       "      <td>5</td>\n",
       "      <td>6</td>\n",
       "      <td>5</td>\n",
       "      <td>6</td>\n",
       "      <td>8</td>\n",
       "      <td>5</td>\n",
       "    </tr>\n",
       "    <tr>\n",
       "      <th rowspan=\"3\" valign=\"top\">2022</th>\n",
       "      <th>1</th>\n",
       "      <td>5</td>\n",
       "      <td>8</td>\n",
       "      <td>5</td>\n",
       "      <td>7</td>\n",
       "      <td>6</td>\n",
       "      <td>5</td>\n",
       "      <td>8</td>\n",
       "      <td>6</td>\n",
       "      <td>7</td>\n",
       "    </tr>\n",
       "    <tr>\n",
       "      <th>2</th>\n",
       "      <td>7</td>\n",
       "      <td>6</td>\n",
       "      <td>9</td>\n",
       "      <td>6</td>\n",
       "      <td>9</td>\n",
       "      <td>8</td>\n",
       "      <td>8</td>\n",
       "      <td>9</td>\n",
       "      <td>6</td>\n",
       "    </tr>\n",
       "    <tr>\n",
       "      <th>3</th>\n",
       "      <td>7</td>\n",
       "      <td>8</td>\n",
       "      <td>9</td>\n",
       "      <td>7</td>\n",
       "      <td>5</td>\n",
       "      <td>5</td>\n",
       "      <td>7</td>\n",
       "      <td>7</td>\n",
       "      <td>5</td>\n",
       "    </tr>\n",
       "  </tbody>\n",
       "</table>\n",
       "</div>"
      ],
      "text/plain": [
       "Học sinh     Bình         Lan         Vân       \n",
       "Môn học      Toán Lý Hóa Toán Lý Hóa Toán Lý Hóa\n",
       "Năm  Lần thi                                    \n",
       "2020 1          9  9   6    6  7   9    5  9   8\n",
       "     2          9  9   5    9  5   6    7  9   5\n",
       "     3          8  9   5    5  6   5    5  6   9\n",
       "2021 1          8  6   6    7  8   6    6  7   9\n",
       "     2          8  5   8    6  7   5    6  9   8\n",
       "     3          7  5   7    5  6   5    6  8   5\n",
       "2022 1          5  8   5    7  6   5    8  6   7\n",
       "     2          7  6   9    6  9   8    8  9   6\n",
       "     3          7  8   9    7  5   5    7  7   5"
      ]
     },
     "execution_count": 65,
     "metadata": {},
     "output_type": "execute_result"
    }
   ],
   "source": [
    "index=pd.MultiIndex.from_product([[2020,2021,2022],[1,2,3]],\n",
    "                                 names=['Năm','Lần thi'])\n",
    "columns=pd.MultiIndex.from_product([['Bình','Lan','Vân'],\n",
    "                                    \n",
    "                                    ['Toán','Lý','Hóa']],\n",
    "                                    names=['Học sinh','Môn học'])\n",
    "data=np.random.randint(5,10,(9,9))\n",
    "score=pd.DataFrame(data,index,columns=columns)\n",
    "score"
   ]
  },
  {
   "cell_type": "code",
   "execution_count": 66,
   "metadata": {},
   "outputs": [
    {
     "data": {
      "text/html": [
       "<div>\n",
       "<style scoped>\n",
       "    .dataframe tbody tr th:only-of-type {\n",
       "        vertical-align: middle;\n",
       "    }\n",
       "\n",
       "    .dataframe tbody tr th {\n",
       "        vertical-align: top;\n",
       "    }\n",
       "\n",
       "    .dataframe thead th {\n",
       "        text-align: right;\n",
       "    }\n",
       "</style>\n",
       "<table border=\"1\" class=\"dataframe\">\n",
       "  <thead>\n",
       "    <tr style=\"text-align: right;\">\n",
       "      <th></th>\n",
       "      <th>Môn học</th>\n",
       "      <th>Toán</th>\n",
       "      <th>Lý</th>\n",
       "      <th>Hóa</th>\n",
       "    </tr>\n",
       "    <tr>\n",
       "      <th>Năm</th>\n",
       "      <th>Lần thi</th>\n",
       "      <th></th>\n",
       "      <th></th>\n",
       "      <th></th>\n",
       "    </tr>\n",
       "  </thead>\n",
       "  <tbody>\n",
       "    <tr>\n",
       "      <th rowspan=\"3\" valign=\"top\">2020</th>\n",
       "      <th>1</th>\n",
       "      <td>9</td>\n",
       "      <td>9</td>\n",
       "      <td>6</td>\n",
       "    </tr>\n",
       "    <tr>\n",
       "      <th>2</th>\n",
       "      <td>9</td>\n",
       "      <td>9</td>\n",
       "      <td>5</td>\n",
       "    </tr>\n",
       "    <tr>\n",
       "      <th>3</th>\n",
       "      <td>8</td>\n",
       "      <td>9</td>\n",
       "      <td>5</td>\n",
       "    </tr>\n",
       "    <tr>\n",
       "      <th rowspan=\"3\" valign=\"top\">2021</th>\n",
       "      <th>1</th>\n",
       "      <td>8</td>\n",
       "      <td>6</td>\n",
       "      <td>6</td>\n",
       "    </tr>\n",
       "    <tr>\n",
       "      <th>2</th>\n",
       "      <td>8</td>\n",
       "      <td>5</td>\n",
       "      <td>8</td>\n",
       "    </tr>\n",
       "    <tr>\n",
       "      <th>3</th>\n",
       "      <td>7</td>\n",
       "      <td>5</td>\n",
       "      <td>7</td>\n",
       "    </tr>\n",
       "    <tr>\n",
       "      <th rowspan=\"3\" valign=\"top\">2022</th>\n",
       "      <th>1</th>\n",
       "      <td>5</td>\n",
       "      <td>8</td>\n",
       "      <td>5</td>\n",
       "    </tr>\n",
       "    <tr>\n",
       "      <th>2</th>\n",
       "      <td>7</td>\n",
       "      <td>6</td>\n",
       "      <td>9</td>\n",
       "    </tr>\n",
       "    <tr>\n",
       "      <th>3</th>\n",
       "      <td>7</td>\n",
       "      <td>8</td>\n",
       "      <td>9</td>\n",
       "    </tr>\n",
       "  </tbody>\n",
       "</table>\n",
       "</div>"
      ],
      "text/plain": [
       "Môn học       Toán  Lý  Hóa\n",
       "Năm  Lần thi               \n",
       "2020 1           9   9    6\n",
       "     2           9   9    5\n",
       "     3           8   9    5\n",
       "2021 1           8   6    6\n",
       "     2           8   5    8\n",
       "     3           7   5    7\n",
       "2022 1           5   8    5\n",
       "     2           7   6    9\n",
       "     3           7   8    9"
      ]
     },
     "execution_count": 66,
     "metadata": {},
     "output_type": "execute_result"
    }
   ],
   "source": [
    "score['Bình']\n"
   ]
  },
  {
   "cell_type": "code",
   "execution_count": 67,
   "metadata": {},
   "outputs": [
    {
     "name": "stdout",
     "output_type": "stream",
     "text": [
      "Tỉnh/Thành phố có dân số lớn hơn 5 triệu: \n",
      " Tỉnh/TP      Năm \n",
      "Hà Nội       2015    7216000\n",
      "             2020    8246540\n",
      "Hồ Chí Minh  2015    8146300\n",
      "             2020    9227600\n",
      "dtype: int64\n",
      "Dân số Hà Nội và Đà Nẵng: \n",
      " Tỉnh/TP  Năm \n",
      "Hà Nội   2015    7216000\n",
      "         2020    8246540\n",
      "Đà Nẵng  2015    1028800\n",
      "         2020    1169480\n",
      "dtype: int64\n"
     ]
    }
   ],
   "source": [
    "#Sử dụng mask\n",
    "print(\"Tỉnh/Thành phố có dân số lớn hơn 5 triệu: \\n\",vn_pop[vn_pop >5000000]) #Sử dụng Fancy Indexing\n",
    "print(\"Dân số Hà Nội và Đà Nẵng: \\n\", vn_pop[['Hà Nội', 'Đà Nẵng']])"
   ]
  },
  {
   "cell_type": "code",
   "execution_count": 68,
   "metadata": {},
   "outputs": [
    {
     "name": "stdout",
     "output_type": "stream",
     "text": [
      "Điểm môn Toán của Lan:\n",
      " Năm   Lần thi\n",
      "2020  1          6\n",
      "      2          9\n",
      "      3          5\n",
      "2021  1          7\n",
      "      2          6\n",
      "      3          5\n",
      "2022  1          7\n",
      "      2          6\n",
      "      3          7\n",
      "Name: (Lan, Toán), dtype: int32 \n",
      "\n",
      "Điểm môn Lý của Bình và Hóa của Vân:\n",
      " Học sinh     Bình Vân\n",
      "Môn học        Lý Hóa\n",
      "Năm  Lần thi         \n",
      "2020 1          9   8\n",
      "     2          9   5\n",
      "     3          9   9\n",
      "2021 1          6   9\n",
      "     2          5   8\n",
      "     3          5   5\n",
      "2022 1          8   7\n",
      "     2          6   6\n",
      "     3          8   5 \n",
      "\n",
      "Điểm môn Lý của Vân năm 2021:\n",
      " Lần thi\n",
      "1    7\n",
      "2    9\n",
      "3    8\n",
      "Name: (Vân, Lý), dtype: int32\n",
      "\n",
      "Điểm Toán của Bình và Hóa của Lan trong năm 2020, 2021:\n",
      " Học sinh     Bình Lan\n",
      "Môn học      Toán Hóa\n",
      "Năm  Lần thi         \n",
      "2020 1          9   9\n",
      "     2          9   6\n",
      "     3          8   5\n",
      "2021 1          8   6\n",
      "     2          8   5\n",
      "     3          7   5 \n",
      "\n",
      "Các lần thi học phần Lý mà Lan đạt điểm trên 7:\n",
      " Năm   Lần thi\n",
      "2021  1          8\n",
      "2022  2          9\n",
      "Name: (Lan, Lý), dtype: int32\n"
     ]
    }
   ],
   "source": [
    "print(\"Điểm môn Toán của Lan:\\n\", score['Lan', 'Toán'],'\\n') \n",
    "print(\"Điểm môn Lý của Bình và Hóa của Vân:\\n\",\n",
    " score.loc[:,[('Bình','Lý'),('Vân','Hóa')]],'\\n') \n",
    "print(\"Điểm môn Lý của Vân năm 2021:\\n\",score.loc[2021,('Vân','Lý')]) \n",
    "print(\"\\nĐiểm Toán của Bình và Hóa của Lan trong năm 2020, 2021:\\n\",  score.loc[[2020,2021],[('Bình','Toán'),('Lan','Hóa')]],'\\n') \n",
    "print(\"Các lần thi học phần Lý mà Lan đạt điểm trên 7:\\n\",\n",
    " score['Lan','Lý'][score['Lan','Lý']>7]) "
   ]
  },
  {
   "cell_type": "code",
   "execution_count": 69,
   "metadata": {},
   "outputs": [
    {
     "name": "stdout",
     "output_type": "stream",
     "text": [
      "Điểm môn Lý của Vân năm 2021:\n",
      " Lần thi\n",
      "1    7\n",
      "2    9\n",
      "3    8\n",
      "Name: (Vân, Lý), dtype: int32\n",
      "\n",
      "Điểm Toán của Bình và Hóa của Lan trong năm 2020, 2021:\n",
      " Học sinh     Bình Lan\n",
      "Môn học      Toán Hóa\n",
      "Năm  Lần thi         \n",
      "2020 1          9   9\n",
      "     2          9   6\n",
      "     3          8   5\n",
      "2021 1          8   6\n",
      "     2          8   5\n",
      "     3          7   5 \n",
      "\n",
      "Các lần thi học phần Lý mà Lan đạt điểm trên 7:\n",
      " Năm   Lần thi\n",
      "2021  1          8\n",
      "2022  2          9\n",
      "Name: (Lan, Lý), dtype: int32\n"
     ]
    }
   ],
   "source": [
    "print(\"Điểm môn Lý của Vân năm 2021:\\n\",score.loc[2021,('Vân','Lý')]) \n",
    "print(\"\\nĐiểm Toán của Bình và Hóa của Lan trong năm 2020, 2021:\\n\",  score.loc[[2020,2021],[('Bình','Toán'),('Lan','Hóa')]],'\\n') \n",
    "print(\"Các lần thi học phần Lý mà Lan đạt điểm trên 7:\\n\",\n",
    " score['Lan','Lý'][score['Lan','Lý']>7]) "
   ]
  },
  {
   "cell_type": "code",
   "execution_count": null,
   "metadata": {},
   "outputs": [],
   "source": []
  },
  {
   "cell_type": "code",
   "execution_count": 70,
   "metadata": {},
   "outputs": [
    {
     "name": "stdout",
     "output_type": "stream",
     "text": [
      "Dân số tỉnh/thành phố năm 2020 là:\n",
      "\n"
     ]
    },
    {
     "data": {
      "text/plain": [
       "Index A  Index B\n",
       "a        1          69\n",
       "         2          13\n",
       "         3          47\n",
       "c        1          79\n",
       "         2          56\n",
       "         3          90\n",
       "b        1          50\n",
       "         2          52\n",
       "         3          95\n",
       "dtype: int32"
      ]
     },
     "execution_count": 70,
     "metadata": {},
     "output_type": "execute_result"
    }
   ],
   "source": [
    "print(\"Dân số tỉnh/thành phố năm 2020 là:\\n\"), vn_pop.loc[:,2020]\n",
    "index = pd.MultiIndex.from_product([['a','c','b'],[1,2,3]],  \n",
    "                                   names=['Index A','Index B']) \n",
    "data = pd.Series(np.random.randint(0,100,(9,)),index=index)\n",
    "data"
   ]
  },
  {
   "cell_type": "code",
   "execution_count": 71,
   "metadata": {},
   "outputs": [
    {
     "ename": "UnsortedIndexError",
     "evalue": "'Key length (1) was greater than MultiIndex lexsort depth (0)'",
     "output_type": "error",
     "traceback": [
      "\u001b[1;31m---------------------------------------------------------------------------\u001b[0m",
      "\u001b[1;31mUnsortedIndexError\u001b[0m                        Traceback (most recent call last)",
      "\u001b[1;32md:\\python nâng cao\\chương 4\\vd4.6.1.ipynb Cell 22\u001b[0m line \u001b[0;36m1\n\u001b[1;32m----> <a href='vscode-notebook-cell:/d%3A/python%20n%C3%A2ng%20cao/ch%C6%B0%C6%A1ng%204/vd4.6.1.ipynb#X31sZmlsZQ%3D%3D?line=0'>1</a>\u001b[0m data[\u001b[39m'\u001b[39;49m\u001b[39ma\u001b[39;49m\u001b[39m'\u001b[39;49m:\u001b[39m'\u001b[39;49m\u001b[39mb\u001b[39;49m\u001b[39m'\u001b[39;49m]\n",
      "File \u001b[1;32m~\\AppData\\Local\\Packages\\PythonSoftwareFoundation.Python.3.11_qbz5n2kfra8p0\\LocalCache\\local-packages\\Python311\\site-packages\\pandas\\core\\series.py:1065\u001b[0m, in \u001b[0;36mSeries.__getitem__\u001b[1;34m(self, key)\u001b[0m\n\u001b[0;32m   1061\u001b[0m             \u001b[39mreturn\u001b[39;00m \u001b[39mself\u001b[39m\u001b[39m.\u001b[39m_get_values_tuple(key)\n\u001b[0;32m   1063\u001b[0m \u001b[39mif\u001b[39;00m \u001b[39misinstance\u001b[39m(key, \u001b[39mslice\u001b[39m):\n\u001b[0;32m   1064\u001b[0m     \u001b[39m# Do slice check before somewhat-costly is_bool_indexer\u001b[39;00m\n\u001b[1;32m-> 1065\u001b[0m     \u001b[39mreturn\u001b[39;00m \u001b[39mself\u001b[39;49m\u001b[39m.\u001b[39;49m_getitem_slice(key)\n\u001b[0;32m   1067\u001b[0m \u001b[39mif\u001b[39;00m com\u001b[39m.\u001b[39mis_bool_indexer(key):\n\u001b[0;32m   1068\u001b[0m     key \u001b[39m=\u001b[39m check_bool_indexer(\u001b[39mself\u001b[39m\u001b[39m.\u001b[39mindex, key)\n",
      "File \u001b[1;32m~\\AppData\\Local\\Packages\\PythonSoftwareFoundation.Python.3.11_qbz5n2kfra8p0\\LocalCache\\local-packages\\Python311\\site-packages\\pandas\\core\\generic.py:4284\u001b[0m, in \u001b[0;36mNDFrame._getitem_slice\u001b[1;34m(self, key)\u001b[0m\n\u001b[0;32m   4279\u001b[0m \u001b[39m\u001b[39m\u001b[39m\"\"\"\u001b[39;00m\n\u001b[0;32m   4280\u001b[0m \u001b[39m__getitem__ for the case where the key is a slice object.\u001b[39;00m\n\u001b[0;32m   4281\u001b[0m \u001b[39m\"\"\"\u001b[39;00m\n\u001b[0;32m   4282\u001b[0m \u001b[39m# _convert_slice_indexer to determine if this slice is positional\u001b[39;00m\n\u001b[0;32m   4283\u001b[0m \u001b[39m#  or label based, and if the latter, convert to positional\u001b[39;00m\n\u001b[1;32m-> 4284\u001b[0m slobj \u001b[39m=\u001b[39m \u001b[39mself\u001b[39;49m\u001b[39m.\u001b[39;49mindex\u001b[39m.\u001b[39;49m_convert_slice_indexer(key, kind\u001b[39m=\u001b[39;49m\u001b[39m\"\u001b[39;49m\u001b[39mgetitem\u001b[39;49m\u001b[39m\"\u001b[39;49m)\n\u001b[0;32m   4285\u001b[0m \u001b[39mif\u001b[39;00m \u001b[39misinstance\u001b[39m(slobj, np\u001b[39m.\u001b[39mndarray):\n\u001b[0;32m   4286\u001b[0m     \u001b[39m# reachable with DatetimeIndex\u001b[39;00m\n\u001b[0;32m   4287\u001b[0m     indexer \u001b[39m=\u001b[39m lib\u001b[39m.\u001b[39mmaybe_indices_to_slice(\n\u001b[0;32m   4288\u001b[0m         slobj\u001b[39m.\u001b[39mastype(np\u001b[39m.\u001b[39mintp, copy\u001b[39m=\u001b[39m\u001b[39mFalse\u001b[39;00m), \u001b[39mlen\u001b[39m(\u001b[39mself\u001b[39m)\n\u001b[0;32m   4289\u001b[0m     )\n",
      "File \u001b[1;32m~\\AppData\\Local\\Packages\\PythonSoftwareFoundation.Python.3.11_qbz5n2kfra8p0\\LocalCache\\local-packages\\Python311\\site-packages\\pandas\\core\\indexes\\base.py:4285\u001b[0m, in \u001b[0;36mIndex._convert_slice_indexer\u001b[1;34m(self, key, kind)\u001b[0m\n\u001b[0;32m   4283\u001b[0m     indexer \u001b[39m=\u001b[39m key\n\u001b[0;32m   4284\u001b[0m \u001b[39melse\u001b[39;00m:\n\u001b[1;32m-> 4285\u001b[0m     indexer \u001b[39m=\u001b[39m \u001b[39mself\u001b[39;49m\u001b[39m.\u001b[39;49mslice_indexer(start, stop, step)\n\u001b[0;32m   4287\u001b[0m \u001b[39mreturn\u001b[39;00m indexer\n",
      "File \u001b[1;32m~\\AppData\\Local\\Packages\\PythonSoftwareFoundation.Python.3.11_qbz5n2kfra8p0\\LocalCache\\local-packages\\Python311\\site-packages\\pandas\\core\\indexes\\base.py:6601\u001b[0m, in \u001b[0;36mIndex.slice_indexer\u001b[1;34m(self, start, end, step)\u001b[0m\n\u001b[0;32m   6557\u001b[0m \u001b[39mdef\u001b[39;00m \u001b[39mslice_indexer\u001b[39m(\n\u001b[0;32m   6558\u001b[0m     \u001b[39mself\u001b[39m,\n\u001b[0;32m   6559\u001b[0m     start: Hashable \u001b[39m|\u001b[39m \u001b[39mNone\u001b[39;00m \u001b[39m=\u001b[39m \u001b[39mNone\u001b[39;00m,\n\u001b[0;32m   6560\u001b[0m     end: Hashable \u001b[39m|\u001b[39m \u001b[39mNone\u001b[39;00m \u001b[39m=\u001b[39m \u001b[39mNone\u001b[39;00m,\n\u001b[0;32m   6561\u001b[0m     step: \u001b[39mint\u001b[39m \u001b[39m|\u001b[39m \u001b[39mNone\u001b[39;00m \u001b[39m=\u001b[39m \u001b[39mNone\u001b[39;00m,\n\u001b[0;32m   6562\u001b[0m ) \u001b[39m-\u001b[39m\u001b[39m>\u001b[39m \u001b[39mslice\u001b[39m:\n\u001b[0;32m   6563\u001b[0m \u001b[39m    \u001b[39m\u001b[39m\"\"\"\u001b[39;00m\n\u001b[0;32m   6564\u001b[0m \u001b[39m    Compute the slice indexer for input labels and step.\u001b[39;00m\n\u001b[0;32m   6565\u001b[0m \n\u001b[1;32m   (...)\u001b[0m\n\u001b[0;32m   6599\u001b[0m \u001b[39m    slice(1, 3, None)\u001b[39;00m\n\u001b[0;32m   6600\u001b[0m \u001b[39m    \"\"\"\u001b[39;00m\n\u001b[1;32m-> 6601\u001b[0m     start_slice, end_slice \u001b[39m=\u001b[39m \u001b[39mself\u001b[39;49m\u001b[39m.\u001b[39;49mslice_locs(start, end, step\u001b[39m=\u001b[39;49mstep)\n\u001b[0;32m   6603\u001b[0m     \u001b[39m# return a slice\u001b[39;00m\n\u001b[0;32m   6604\u001b[0m     \u001b[39mif\u001b[39;00m \u001b[39mnot\u001b[39;00m is_scalar(start_slice):\n",
      "File \u001b[1;32m~\\AppData\\Local\\Packages\\PythonSoftwareFoundation.Python.3.11_qbz5n2kfra8p0\\LocalCache\\local-packages\\Python311\\site-packages\\pandas\\core\\indexes\\multi.py:2789\u001b[0m, in \u001b[0;36mMultiIndex.slice_locs\u001b[1;34m(self, start, end, step)\u001b[0m\n\u001b[0;32m   2737\u001b[0m \u001b[39m\u001b[39m\u001b[39m\"\"\"\u001b[39;00m\n\u001b[0;32m   2738\u001b[0m \u001b[39mFor an ordered MultiIndex, compute the slice locations for input\u001b[39;00m\n\u001b[0;32m   2739\u001b[0m \u001b[39mlabels.\u001b[39;00m\n\u001b[1;32m   (...)\u001b[0m\n\u001b[0;32m   2785\u001b[0m \u001b[39m                      sequence of such.\u001b[39;00m\n\u001b[0;32m   2786\u001b[0m \u001b[39m\"\"\"\u001b[39;00m\n\u001b[0;32m   2787\u001b[0m \u001b[39m# This function adds nothing to its parent implementation (the magic\u001b[39;00m\n\u001b[0;32m   2788\u001b[0m \u001b[39m# happens in get_slice_bound method), but it adds meaningful doc.\u001b[39;00m\n\u001b[1;32m-> 2789\u001b[0m \u001b[39mreturn\u001b[39;00m \u001b[39msuper\u001b[39;49m()\u001b[39m.\u001b[39;49mslice_locs(start, end, step)\n",
      "File \u001b[1;32m~\\AppData\\Local\\Packages\\PythonSoftwareFoundation.Python.3.11_qbz5n2kfra8p0\\LocalCache\\local-packages\\Python311\\site-packages\\pandas\\core\\indexes\\base.py:6818\u001b[0m, in \u001b[0;36mIndex.slice_locs\u001b[1;34m(self, start, end, step)\u001b[0m\n\u001b[0;32m   6816\u001b[0m start_slice \u001b[39m=\u001b[39m \u001b[39mNone\u001b[39;00m\n\u001b[0;32m   6817\u001b[0m \u001b[39mif\u001b[39;00m start \u001b[39mis\u001b[39;00m \u001b[39mnot\u001b[39;00m \u001b[39mNone\u001b[39;00m:\n\u001b[1;32m-> 6818\u001b[0m     start_slice \u001b[39m=\u001b[39m \u001b[39mself\u001b[39;49m\u001b[39m.\u001b[39;49mget_slice_bound(start, \u001b[39m\"\u001b[39;49m\u001b[39mleft\u001b[39;49m\u001b[39m\"\u001b[39;49m)\n\u001b[0;32m   6819\u001b[0m \u001b[39mif\u001b[39;00m start_slice \u001b[39mis\u001b[39;00m \u001b[39mNone\u001b[39;00m:\n\u001b[0;32m   6820\u001b[0m     start_slice \u001b[39m=\u001b[39m \u001b[39m0\u001b[39m\n",
      "File \u001b[1;32m~\\AppData\\Local\\Packages\\PythonSoftwareFoundation.Python.3.11_qbz5n2kfra8p0\\LocalCache\\local-packages\\Python311\\site-packages\\pandas\\core\\indexes\\multi.py:2733\u001b[0m, in \u001b[0;36mMultiIndex.get_slice_bound\u001b[1;34m(self, label, side)\u001b[0m\n\u001b[0;32m   2731\u001b[0m \u001b[39mif\u001b[39;00m \u001b[39mnot\u001b[39;00m \u001b[39misinstance\u001b[39m(label, \u001b[39mtuple\u001b[39m):\n\u001b[0;32m   2732\u001b[0m     label \u001b[39m=\u001b[39m (label,)\n\u001b[1;32m-> 2733\u001b[0m \u001b[39mreturn\u001b[39;00m \u001b[39mself\u001b[39;49m\u001b[39m.\u001b[39;49m_partial_tup_index(label, side\u001b[39m=\u001b[39;49mside)\n",
      "File \u001b[1;32m~\\AppData\\Local\\Packages\\PythonSoftwareFoundation.Python.3.11_qbz5n2kfra8p0\\LocalCache\\local-packages\\Python311\\site-packages\\pandas\\core\\indexes\\multi.py:2793\u001b[0m, in \u001b[0;36mMultiIndex._partial_tup_index\u001b[1;34m(self, tup, side)\u001b[0m\n\u001b[0;32m   2791\u001b[0m \u001b[39mdef\u001b[39;00m \u001b[39m_partial_tup_index\u001b[39m(\u001b[39mself\u001b[39m, tup: \u001b[39mtuple\u001b[39m, side: Literal[\u001b[39m\"\u001b[39m\u001b[39mleft\u001b[39m\u001b[39m\"\u001b[39m, \u001b[39m\"\u001b[39m\u001b[39mright\u001b[39m\u001b[39m\"\u001b[39m] \u001b[39m=\u001b[39m \u001b[39m\"\u001b[39m\u001b[39mleft\u001b[39m\u001b[39m\"\u001b[39m):\n\u001b[0;32m   2792\u001b[0m     \u001b[39mif\u001b[39;00m \u001b[39mlen\u001b[39m(tup) \u001b[39m>\u001b[39m \u001b[39mself\u001b[39m\u001b[39m.\u001b[39m_lexsort_depth:\n\u001b[1;32m-> 2793\u001b[0m         \u001b[39mraise\u001b[39;00m UnsortedIndexError(\n\u001b[0;32m   2794\u001b[0m             \u001b[39mf\u001b[39m\u001b[39m\"\u001b[39m\u001b[39mKey length (\u001b[39m\u001b[39m{\u001b[39;00m\u001b[39mlen\u001b[39m(tup)\u001b[39m}\u001b[39;00m\u001b[39m) was greater than MultiIndex lexsort depth \u001b[39m\u001b[39m\"\u001b[39m\n\u001b[0;32m   2795\u001b[0m             \u001b[39mf\u001b[39m\u001b[39m\"\u001b[39m\u001b[39m(\u001b[39m\u001b[39m{\u001b[39;00m\u001b[39mself\u001b[39m\u001b[39m.\u001b[39m_lexsort_depth\u001b[39m}\u001b[39;00m\u001b[39m)\u001b[39m\u001b[39m\"\u001b[39m\n\u001b[0;32m   2796\u001b[0m         )\n\u001b[0;32m   2798\u001b[0m     n \u001b[39m=\u001b[39m \u001b[39mlen\u001b[39m(tup)\n\u001b[0;32m   2799\u001b[0m     start, end \u001b[39m=\u001b[39m \u001b[39m0\u001b[39m, \u001b[39mlen\u001b[39m(\u001b[39mself\u001b[39m)\n",
      "\u001b[1;31mUnsortedIndexError\u001b[0m: 'Key length (1) was greater than MultiIndex lexsort depth (0)'"
     ]
    }
   ],
   "source": [
    "data['a':'b']"
   ]
  },
  {
   "cell_type": "code",
   "execution_count": 72,
   "metadata": {},
   "outputs": [
    {
     "ename": "AttributeError",
     "evalue": "'Series' object has no attribute 'sort'",
     "output_type": "error",
     "traceback": [
      "\u001b[1;31m---------------------------------------------------------------------------\u001b[0m",
      "\u001b[1;31mAttributeError\u001b[0m                            Traceback (most recent call last)",
      "\u001b[1;32m~\\AppData\\Local\\Temp\\ipykernel_3880\\2803938331.py\u001b[0m in \u001b[0;36m?\u001b[1;34m()\u001b[0m\n\u001b[1;32m----> 1\u001b[1;33m \u001b[0mdata\u001b[0m\u001b[1;33m=\u001b[0m\u001b[0mdata\u001b[0m\u001b[1;33m.\u001b[0m\u001b[0msort\u001b[0m\u001b[1;33m.\u001b[0m\u001b[0mindex\u001b[0m\u001b[1;33m(\u001b[0m\u001b[1;33m)\u001b[0m\u001b[1;33m\u001b[0m\u001b[1;33m\u001b[0m\u001b[0m\n\u001b[0m\u001b[0;32m      2\u001b[0m \u001b[0mdata\u001b[0m\u001b[1;33m[\u001b[0m\u001b[1;34m'a'\u001b[0m\u001b[1;33m:\u001b[0m\u001b[1;34m'b'\u001b[0m\u001b[1;33m]\u001b[0m\u001b[1;33m\u001b[0m\u001b[1;33m\u001b[0m\u001b[0m\n",
      "\u001b[1;32m~\\AppData\\Local\\Packages\\PythonSoftwareFoundation.Python.3.11_qbz5n2kfra8p0\\LocalCache\\local-packages\\Python311\\site-packages\\pandas\\core\\generic.py\u001b[0m in \u001b[0;36m?\u001b[1;34m(self, name)\u001b[0m\n\u001b[0;32m   6200\u001b[0m             \u001b[1;32mand\u001b[0m \u001b[0mname\u001b[0m \u001b[1;32mnot\u001b[0m \u001b[1;32min\u001b[0m \u001b[0mself\u001b[0m\u001b[1;33m.\u001b[0m\u001b[0m_accessors\u001b[0m\u001b[1;33m\u001b[0m\u001b[1;33m\u001b[0m\u001b[0m\n\u001b[0;32m   6201\u001b[0m             \u001b[1;32mand\u001b[0m \u001b[0mself\u001b[0m\u001b[1;33m.\u001b[0m\u001b[0m_info_axis\u001b[0m\u001b[1;33m.\u001b[0m\u001b[0m_can_hold_identifiers_and_holds_name\u001b[0m\u001b[1;33m(\u001b[0m\u001b[0mname\u001b[0m\u001b[1;33m)\u001b[0m\u001b[1;33m\u001b[0m\u001b[1;33m\u001b[0m\u001b[0m\n\u001b[0;32m   6202\u001b[0m         ):\n\u001b[0;32m   6203\u001b[0m             \u001b[1;32mreturn\u001b[0m \u001b[0mself\u001b[0m\u001b[1;33m[\u001b[0m\u001b[0mname\u001b[0m\u001b[1;33m]\u001b[0m\u001b[1;33m\u001b[0m\u001b[1;33m\u001b[0m\u001b[0m\n\u001b[1;32m-> 6204\u001b[1;33m         \u001b[1;32mreturn\u001b[0m \u001b[0mobject\u001b[0m\u001b[1;33m.\u001b[0m\u001b[0m__getattribute__\u001b[0m\u001b[1;33m(\u001b[0m\u001b[0mself\u001b[0m\u001b[1;33m,\u001b[0m \u001b[0mname\u001b[0m\u001b[1;33m)\u001b[0m\u001b[1;33m\u001b[0m\u001b[1;33m\u001b[0m\u001b[0m\n\u001b[0m",
      "\u001b[1;31mAttributeError\u001b[0m: 'Series' object has no attribute 'sort'"
     ]
    }
   ],
   "source": [
    "data=data.sort.index()\n",
    "data['a':'b'] "
   ]
  },
  {
   "cell_type": "code",
   "execution_count": 73,
   "metadata": {},
   "outputs": [
    {
     "name": "stdout",
     "output_type": "stream",
     "text": [
      "Unstack level 0: \n",
      " Tỉnh/TP   Hà Nội  Hồ Chí Minh  Nam Định  Thanh Hóa  Đà Nẵng\n",
      "Năm                                                        \n",
      "2015     7216000      8146300   1850600    3514200  1028800\n",
      "2020     8246540      9227600   1780330    3664940  1169480\n",
      "\n",
      "Unstack level 1: \n",
      " Năm             2015     2020\n",
      "Tỉnh/TP                      \n",
      "Hà Nội       7216000  8246540\n",
      "Hồ Chí Minh  8146300  9227600\n",
      "Nam Định     1850600  1780330\n",
      "Thanh Hóa    3514200  3664940\n",
      "Đà Nẵng      1028800  1169480\n"
     ]
    }
   ],
   "source": [
    "print(\"Unstack level 0: \\n\", vn_pop.unstack(level=0)) \n",
    "print(\"\\nUnstack level 1: \\n\", vn_pop.unstack(level=1))"
   ]
  },
  {
   "cell_type": "code",
   "execution_count": 74,
   "metadata": {},
   "outputs": [
    {
     "name": "stdout",
     "output_type": "stream",
     "text": [
      "vn_pop: \n",
      " Tỉnh/TP      Năm \n",
      "Hà Nội       2015    7216000\n",
      "             2020    8246540\n",
      "Nam Định     2015    1850600\n",
      "             2020    1780330\n",
      "Thanh Hóa    2015    3514200\n",
      "             2020    3664940\n",
      "Đà Nẵng      2015    1028800\n",
      "             2020    1169480\n",
      "Hồ Chí Minh  2015    8146300\n",
      "             2020    9227600\n",
      "dtype: int64\n",
      "\n",
      " vn_pop unstack => stack: \n",
      " Tỉnh/TP      Năm \n",
      "Hà Nội       2015    7216000\n",
      "             2020    8246540\n",
      "Hồ Chí Minh  2015    8146300\n",
      "             2020    9227600\n",
      "Nam Định     2015    1850600\n",
      "             2020    1780330\n",
      "Thanh Hóa    2015    3514200\n",
      "             2020    3664940\n",
      "Đà Nẵng      2015    1028800\n",
      "             2020    1169480\n",
      "dtype: int64\n"
     ]
    }
   ],
   "source": [
    "print(\"vn_pop: \\n\", vn_pop)\n",
    "\n",
    "print(\"\\n vn_pop unstack => stack: \\n\",vn_pop.unstack(level=1).stack())"
   ]
  },
  {
   "cell_type": "code",
   "execution_count": 75,
   "metadata": {},
   "outputs": [
    {
     "ename": "TypeError",
     "evalue": "mean() got an unexpected keyword argument 'level'",
     "output_type": "error",
     "traceback": [
      "\u001b[1;31m---------------------------------------------------------------------------\u001b[0m",
      "\u001b[1;31mTypeError\u001b[0m                                 Traceback (most recent call last)",
      "\u001b[1;32md:\\python nâng cao\\chương 4\\vd4.6.1.ipynb Cell 26\u001b[0m line \u001b[0;36m1\n\u001b[1;32m----> <a href='vscode-notebook-cell:/d%3A/python%20n%C3%A2ng%20cao/ch%C6%B0%C6%A1ng%204/vd4.6.1.ipynb#X34sZmlsZQ%3D%3D?line=0'>1</a>\u001b[0m score\u001b[39m.\u001b[39;49mmean(level\u001b[39m=\u001b[39;49m\u001b[39m'\u001b[39;49m\u001b[39mnăm\u001b[39;49m\u001b[39m'\u001b[39;49m)\n",
      "File \u001b[1;32m~\\AppData\\Local\\Packages\\PythonSoftwareFoundation.Python.3.11_qbz5n2kfra8p0\\LocalCache\\local-packages\\Python311\\site-packages\\pandas\\core\\frame.py:11335\u001b[0m, in \u001b[0;36mDataFrame.mean\u001b[1;34m(self, axis, skipna, numeric_only, **kwargs)\u001b[0m\n\u001b[0;32m  11327\u001b[0m \u001b[39m@doc\u001b[39m(make_doc(\u001b[39m\"\u001b[39m\u001b[39mmean\u001b[39m\u001b[39m\"\u001b[39m, ndim\u001b[39m=\u001b[39m\u001b[39m2\u001b[39m))\n\u001b[0;32m  11328\u001b[0m \u001b[39mdef\u001b[39;00m \u001b[39mmean\u001b[39m(\n\u001b[0;32m  11329\u001b[0m     \u001b[39mself\u001b[39m,\n\u001b[1;32m   (...)\u001b[0m\n\u001b[0;32m  11333\u001b[0m     \u001b[39m*\u001b[39m\u001b[39m*\u001b[39mkwargs,\n\u001b[0;32m  11334\u001b[0m ):\n\u001b[1;32m> 11335\u001b[0m     result \u001b[39m=\u001b[39m \u001b[39msuper\u001b[39;49m()\u001b[39m.\u001b[39;49mmean(axis, skipna, numeric_only, \u001b[39m*\u001b[39;49m\u001b[39m*\u001b[39;49mkwargs)\n\u001b[0;32m  11336\u001b[0m     \u001b[39mif\u001b[39;00m \u001b[39misinstance\u001b[39m(result, Series):\n\u001b[0;32m  11337\u001b[0m         result \u001b[39m=\u001b[39m result\u001b[39m.\u001b[39m__finalize__(\u001b[39mself\u001b[39m, method\u001b[39m=\u001b[39m\u001b[39m\"\u001b[39m\u001b[39mmean\u001b[39m\u001b[39m\"\u001b[39m)\n",
      "File \u001b[1;32m~\\AppData\\Local\\Packages\\PythonSoftwareFoundation.Python.3.11_qbz5n2kfra8p0\\LocalCache\\local-packages\\Python311\\site-packages\\pandas\\core\\generic.py:11984\u001b[0m, in \u001b[0;36mNDFrame.mean\u001b[1;34m(self, axis, skipna, numeric_only, **kwargs)\u001b[0m\n\u001b[0;32m  11977\u001b[0m \u001b[39mdef\u001b[39;00m \u001b[39mmean\u001b[39m(\n\u001b[0;32m  11978\u001b[0m     \u001b[39mself\u001b[39m,\n\u001b[0;32m  11979\u001b[0m     axis: Axis \u001b[39m|\u001b[39m \u001b[39mNone\u001b[39;00m \u001b[39m=\u001b[39m \u001b[39m0\u001b[39m,\n\u001b[1;32m   (...)\u001b[0m\n\u001b[0;32m  11982\u001b[0m     \u001b[39m*\u001b[39m\u001b[39m*\u001b[39mkwargs,\n\u001b[0;32m  11983\u001b[0m ) \u001b[39m-\u001b[39m\u001b[39m>\u001b[39m Series \u001b[39m|\u001b[39m \u001b[39mfloat\u001b[39m:\n\u001b[1;32m> 11984\u001b[0m     \u001b[39mreturn\u001b[39;00m \u001b[39mself\u001b[39;49m\u001b[39m.\u001b[39;49m_stat_function(\n\u001b[0;32m  11985\u001b[0m         \u001b[39m\"\u001b[39;49m\u001b[39mmean\u001b[39;49m\u001b[39m\"\u001b[39;49m, nanops\u001b[39m.\u001b[39;49mnanmean, axis, skipna, numeric_only, \u001b[39m*\u001b[39;49m\u001b[39m*\u001b[39;49mkwargs\n\u001b[0;32m  11986\u001b[0m     )\n",
      "File \u001b[1;32m~\\AppData\\Local\\Packages\\PythonSoftwareFoundation.Python.3.11_qbz5n2kfra8p0\\LocalCache\\local-packages\\Python311\\site-packages\\pandas\\core\\generic.py:11937\u001b[0m, in \u001b[0;36mNDFrame._stat_function\u001b[1;34m(self, name, func, axis, skipna, numeric_only, **kwargs)\u001b[0m\n\u001b[0;32m  11926\u001b[0m \u001b[39m@final\u001b[39m\n\u001b[0;32m  11927\u001b[0m \u001b[39mdef\u001b[39;00m \u001b[39m_stat_function\u001b[39m(\n\u001b[0;32m  11928\u001b[0m     \u001b[39mself\u001b[39m,\n\u001b[1;32m   (...)\u001b[0m\n\u001b[0;32m  11934\u001b[0m     \u001b[39m*\u001b[39m\u001b[39m*\u001b[39mkwargs,\n\u001b[0;32m  11935\u001b[0m ):\n\u001b[0;32m  11936\u001b[0m     \u001b[39massert\u001b[39;00m name \u001b[39min\u001b[39;00m [\u001b[39m\"\u001b[39m\u001b[39mmedian\u001b[39m\u001b[39m\"\u001b[39m, \u001b[39m\"\u001b[39m\u001b[39mmean\u001b[39m\u001b[39m\"\u001b[39m, \u001b[39m\"\u001b[39m\u001b[39mmin\u001b[39m\u001b[39m\"\u001b[39m, \u001b[39m\"\u001b[39m\u001b[39mmax\u001b[39m\u001b[39m\"\u001b[39m, \u001b[39m\"\u001b[39m\u001b[39mkurt\u001b[39m\u001b[39m\"\u001b[39m, \u001b[39m\"\u001b[39m\u001b[39mskew\u001b[39m\u001b[39m\"\u001b[39m], name\n\u001b[1;32m> 11937\u001b[0m     nv\u001b[39m.\u001b[39;49mvalidate_func(name, (), kwargs)\n\u001b[0;32m  11939\u001b[0m     validate_bool_kwarg(skipna, \u001b[39m\"\u001b[39m\u001b[39mskipna\u001b[39m\u001b[39m\"\u001b[39m, none_allowed\u001b[39m=\u001b[39m\u001b[39mFalse\u001b[39;00m)\n\u001b[0;32m  11941\u001b[0m     \u001b[39mreturn\u001b[39;00m \u001b[39mself\u001b[39m\u001b[39m.\u001b[39m_reduce(\n\u001b[0;32m  11942\u001b[0m         func, name\u001b[39m=\u001b[39mname, axis\u001b[39m=\u001b[39maxis, skipna\u001b[39m=\u001b[39mskipna, numeric_only\u001b[39m=\u001b[39mnumeric_only\n\u001b[0;32m  11943\u001b[0m     )\n",
      "File \u001b[1;32m~\\AppData\\Local\\Packages\\PythonSoftwareFoundation.Python.3.11_qbz5n2kfra8p0\\LocalCache\\local-packages\\Python311\\site-packages\\pandas\\compat\\numpy\\function.py:416\u001b[0m, in \u001b[0;36mvalidate_func\u001b[1;34m(fname, args, kwargs)\u001b[0m\n\u001b[0;32m    413\u001b[0m     \u001b[39mreturn\u001b[39;00m validate_stat_func(args, kwargs, fname\u001b[39m=\u001b[39mfname)\n\u001b[0;32m    415\u001b[0m validation_func \u001b[39m=\u001b[39m _validation_funcs[fname]\n\u001b[1;32m--> 416\u001b[0m \u001b[39mreturn\u001b[39;00m validation_func(args, kwargs)\n",
      "File \u001b[1;32m~\\AppData\\Local\\Packages\\PythonSoftwareFoundation.Python.3.11_qbz5n2kfra8p0\\LocalCache\\local-packages\\Python311\\site-packages\\pandas\\compat\\numpy\\function.py:88\u001b[0m, in \u001b[0;36mCompatValidator.__call__\u001b[1;34m(self, args, kwargs, fname, max_fname_arg_count, method)\u001b[0m\n\u001b[0;32m     86\u001b[0m     validate_kwargs(fname, kwargs, \u001b[39mself\u001b[39m\u001b[39m.\u001b[39mdefaults)\n\u001b[0;32m     87\u001b[0m \u001b[39melif\u001b[39;00m method \u001b[39m==\u001b[39m \u001b[39m\"\u001b[39m\u001b[39mboth\u001b[39m\u001b[39m\"\u001b[39m:\n\u001b[1;32m---> 88\u001b[0m     validate_args_and_kwargs(\n\u001b[0;32m     89\u001b[0m         fname, args, kwargs, max_fname_arg_count, \u001b[39mself\u001b[39;49m\u001b[39m.\u001b[39;49mdefaults\n\u001b[0;32m     90\u001b[0m     )\n\u001b[0;32m     91\u001b[0m \u001b[39melse\u001b[39;00m:\n\u001b[0;32m     92\u001b[0m     \u001b[39mraise\u001b[39;00m \u001b[39mValueError\u001b[39;00m(\u001b[39mf\u001b[39m\u001b[39m\"\u001b[39m\u001b[39minvalid validation method \u001b[39m\u001b[39m'\u001b[39m\u001b[39m{\u001b[39;00mmethod\u001b[39m}\u001b[39;00m\u001b[39m'\u001b[39m\u001b[39m\"\u001b[39m)\n",
      "File \u001b[1;32m~\\AppData\\Local\\Packages\\PythonSoftwareFoundation.Python.3.11_qbz5n2kfra8p0\\LocalCache\\local-packages\\Python311\\site-packages\\pandas\\util\\_validators.py:223\u001b[0m, in \u001b[0;36mvalidate_args_and_kwargs\u001b[1;34m(fname, args, kwargs, max_fname_arg_count, compat_args)\u001b[0m\n\u001b[0;32m    218\u001b[0m         \u001b[39mraise\u001b[39;00m \u001b[39mTypeError\u001b[39;00m(\n\u001b[0;32m    219\u001b[0m             \u001b[39mf\u001b[39m\u001b[39m\"\u001b[39m\u001b[39m{\u001b[39;00mfname\u001b[39m}\u001b[39;00m\u001b[39m() got multiple values for keyword argument \u001b[39m\u001b[39m'\u001b[39m\u001b[39m{\u001b[39;00mkey\u001b[39m}\u001b[39;00m\u001b[39m'\u001b[39m\u001b[39m\"\u001b[39m\n\u001b[0;32m    220\u001b[0m         )\n\u001b[0;32m    222\u001b[0m kwargs\u001b[39m.\u001b[39mupdate(args_dict)\n\u001b[1;32m--> 223\u001b[0m validate_kwargs(fname, kwargs, compat_args)\n",
      "File \u001b[1;32m~\\AppData\\Local\\Packages\\PythonSoftwareFoundation.Python.3.11_qbz5n2kfra8p0\\LocalCache\\local-packages\\Python311\\site-packages\\pandas\\util\\_validators.py:164\u001b[0m, in \u001b[0;36mvalidate_kwargs\u001b[1;34m(fname, kwargs, compat_args)\u001b[0m\n\u001b[0;32m    142\u001b[0m \u001b[39m\u001b[39m\u001b[39m\"\"\"\u001b[39;00m\n\u001b[0;32m    143\u001b[0m \u001b[39mChecks whether parameters passed to the **kwargs argument in a\u001b[39;00m\n\u001b[0;32m    144\u001b[0m \u001b[39mfunction `fname` are valid parameters as specified in `*compat_args`\u001b[39;00m\n\u001b[1;32m   (...)\u001b[0m\n\u001b[0;32m    161\u001b[0m \u001b[39mmap to the default values specified in `compat_args`\u001b[39;00m\n\u001b[0;32m    162\u001b[0m \u001b[39m\"\"\"\u001b[39;00m\n\u001b[0;32m    163\u001b[0m kwds \u001b[39m=\u001b[39m kwargs\u001b[39m.\u001b[39mcopy()\n\u001b[1;32m--> 164\u001b[0m _check_for_invalid_keys(fname, kwargs, compat_args)\n\u001b[0;32m    165\u001b[0m _check_for_default_values(fname, kwds, compat_args)\n",
      "File \u001b[1;32m~\\AppData\\Local\\Packages\\PythonSoftwareFoundation.Python.3.11_qbz5n2kfra8p0\\LocalCache\\local-packages\\Python311\\site-packages\\pandas\\util\\_validators.py:138\u001b[0m, in \u001b[0;36m_check_for_invalid_keys\u001b[1;34m(fname, kwargs, compat_args)\u001b[0m\n\u001b[0;32m    136\u001b[0m \u001b[39mif\u001b[39;00m diff:\n\u001b[0;32m    137\u001b[0m     bad_arg \u001b[39m=\u001b[39m \u001b[39mnext\u001b[39m(\u001b[39miter\u001b[39m(diff))\n\u001b[1;32m--> 138\u001b[0m     \u001b[39mraise\u001b[39;00m \u001b[39mTypeError\u001b[39;00m(\u001b[39mf\u001b[39m\u001b[39m\"\u001b[39m\u001b[39m{\u001b[39;00mfname\u001b[39m}\u001b[39;00m\u001b[39m() got an unexpected keyword argument \u001b[39m\u001b[39m'\u001b[39m\u001b[39m{\u001b[39;00mbad_arg\u001b[39m}\u001b[39;00m\u001b[39m'\u001b[39m\u001b[39m\"\u001b[39m)\n",
      "\u001b[1;31mTypeError\u001b[0m: mean() got an unexpected keyword argument 'level'"
     ]
    }
   ],
   "source": [
    "score.mean(level='năm')"
   ]
  },
  {
   "cell_type": "code",
   "execution_count": 79,
   "metadata": {},
   "outputs": [
    {
     "data": {
      "text/plain": [
       "(hà nội, 2015)         7126000\n",
       "(hà nội, 2020)         8246540\n",
       "(nam định, 2015)       1850600\n",
       "(nam định, 2020)       1780330\n",
       "(thanh hóa, 2015)      3514200\n",
       "(thanh hóa, 2020)      3663940\n",
       "(đà nẵng, 2015)        1028800\n",
       "(đà nẵng, 2020)        1169480\n",
       "(hồ chí minh, 2015)    8146300\n",
       "(hồ chí minh, 2020)    9227600\n",
       "dtype: int64"
      ]
     },
     "execution_count": 79,
     "metadata": {},
     "output_type": "execute_result"
    }
   ],
   "source": [
    "import pandas as pd\n",
    "#tuples đại diện cho tỉnh thành phố - năm tương ứng\n",
    "index = [('hà nội',2015),('hà nội',2020),\n",
    "         ('nam định',2015),('nam định',2020),\n",
    "         ('thanh hóa',2015),('thanh hóa',2020),\n",
    "         ('đà nẵng',2015),('đà nẵng',2020),\n",
    "         ('hồ chí minh',2015),('hồ chí minh',2020)]\n",
    "data =[7126000,8246540,\n",
    "       1850600, 1780330,\n",
    "       3514200,3663940,\n",
    "       1028800,1169480,\n",
    "       8146300,9227600]\n",
    "vn_pop = pd.Series(data,index=index)\n",
    "vn_pop"
   ]
  },
  {
   "cell_type": "code",
   "execution_count": null,
   "metadata": {},
   "outputs": [],
   "source": []
  }
 ],
 "metadata": {
  "kernelspec": {
   "display_name": "Python 3",
   "language": "python",
   "name": "python3"
  },
  "language_info": {
   "codemirror_mode": {
    "name": "ipython",
    "version": 3
   },
   "file_extension": ".py",
   "mimetype": "text/x-python",
   "name": "python",
   "nbconvert_exporter": "python",
   "pygments_lexer": "ipython3",
   "version": "3.11.6"
  }
 },
 "nbformat": 4,
 "nbformat_minor": 2
}
