{
 "cells": [
  {
   "cell_type": "code",
   "execution_count": 1,
   "metadata": {},
   "outputs": [
    {
     "ename": "IndentationError",
     "evalue": "expected an indented block after function definition on line 4 (217038610.py, line 5)",
     "output_type": "error",
     "traceback": [
      "\u001b[1;36m  Cell \u001b[1;32mIn[1], line 5\u001b[1;36m\u001b[0m\n\u001b[1;33m    self.root = root\u001b[0m\n\u001b[1;37m    ^\u001b[0m\n\u001b[1;31mIndentationError\u001b[0m\u001b[1;31m:\u001b[0m expected an indented block after function definition on line 4\n"
     ]
    }
   ],
   "source": [
    "import tkinter as tk \n",
    "from tkinter import ttk \n",
    "class ComboboxApp: \n",
    " def __init__(self, root): \n",
    " self.root = root \n",
    " self.root.title(\"Wellcome to Uneti App\") \n",
    " self.root.geometry('350x80') \n",
    " self.options=[\"DHDS16A1\", \"DHDS 16A2\", \"DHDS17A1\", \"DHDS 17A2\", \"DHDS 17A3\"] self.teacher_label = tk.Label(root, text=\"Giảng viên:\") \n",
    " self.teacher_label.grid(row=0, column=0, padx=5, pady=5) \n",
    " self.teacher_textbox = tk.Text(root, height=1, width=20) \n",
    " self.teacher_textbox.grid(row=0, column=1, padx=5, pady=5) \n",
    " self.label = tk.Label(root, text=\"Lớp giảng dạy:\") \n",
    " self.label.grid(row=1, column=0, padx=5, pady=5) \n",
    " self.combobox = ttk.Combobox(root, values=self.options) \n",
    " self.combobox.grid(row=1, column=1, padx=5, pady=5) \n",
    " self.combobox.bind(\"<<ComboboxSelected>>\", self.on_select) \n",
    " def on_select(self, event): \n",
    " selected_value = self.combobox.get() \n",
    " print(\"Selected:\", selected_value) \n",
    "root = tk.Tk() \n",
    "app = ComboboxApp(root)\n",
    "root.mainloop()"
   ]
  }
 ],
 "metadata": {
  "kernelspec": {
   "display_name": "Python 3",
   "language": "python",
   "name": "python3"
  },
  "language_info": {
   "codemirror_mode": {
    "name": "ipython",
    "version": 3
   },
   "file_extension": ".py",
   "mimetype": "text/x-python",
   "name": "python",
   "nbconvert_exporter": "python",
   "pygments_lexer": "ipython3",
   "version": "3.11.7"
  }
 },
 "nbformat": 4,
 "nbformat_minor": 2
}
