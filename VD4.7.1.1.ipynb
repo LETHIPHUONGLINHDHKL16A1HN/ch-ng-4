{
 "cells": [
  {
   "cell_type": "code",
   "execution_count": 6,
   "metadata": {},
   "outputs": [],
   "source": [
    "import numpy as np\n",
    "import pandas as pd\n"
   ]
  },
  {
   "cell_type": "code",
   "execution_count": 7,
   "metadata": {},
   "outputs": [
    {
     "name": "stdout",
     "output_type": "stream",
     "text": [
      "    A   B\n",
      "0  A0  B0\n",
      "1  A1  B1 \n",
      "\n",
      "    A   B\n",
      "0  A2  B2\n",
      "1  A3  B3\n",
      "\n",
      "Nối A và B theo hàng: \n",
      "     A   B\n",
      "0  A0  B0\n",
      "1  A1  B1\n",
      "0  A2  B2\n",
      "1  A3  B3\n",
      "\n",
      "Nối A và B theo cột:\n",
      "     A   B   A   B\n",
      "0  A0  B0  A2  B2\n",
      "1  A1  B1  A3  B3\n"
     ]
    }
   ],
   "source": [
    "#Ghép 2 DataFrame\n",
    "A=pd.DataFrame([['A0','B0'],['A1','B1']],columns=['A','B']) \n",
    "B=pd.DataFrame([['A2','B2'],['A3','B3']],columns=['A','B']) \n",
    "print(A,'\\n')\n",
    "print(B)\n",
    "print(\"\\nNối A và B theo hàng: \\n\", pd.concat([A,B]))\n",
    "print(\"\\nNối A và B theo cột:\\n\", pd.concat([A,B], axis = 1))"
   ]
  }
 ],
 "metadata": {
  "kernelspec": {
   "display_name": "Python 3",
   "language": "python",
   "name": "python3"
  },
  "language_info": {
   "codemirror_mode": {
    "name": "ipython",
    "version": 3
   },
   "file_extension": ".py",
   "mimetype": "text/x-python",
   "name": "python",
   "nbconvert_exporter": "python",
   "pygments_lexer": "ipython3",
   "version": "3.11.6"
  }
 },
 "nbformat": 4,
 "nbformat_minor": 2
}
