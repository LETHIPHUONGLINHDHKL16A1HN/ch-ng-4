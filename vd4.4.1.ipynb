{
 "cells": [
  {
   "cell_type": "code",
   "execution_count": 2,
   "metadata": {},
   "outputs": [
    {
     "data": {
      "text/plain": [
       "a    1\n",
       "b    2\n",
       "c    3\n",
       "d    4\n",
       "dtype: int64"
      ]
     },
     "execution_count": 2,
     "metadata": {},
     "output_type": "execute_result"
    }
   ],
   "source": [
    "import pandas as pd\n",
    "data = pd.Series([1, 2, 3, 4],\n",
    " index=['a','b','c','d']) \n",
    "data"
   ]
  },
  {
   "cell_type": "code",
   "execution_count": 3,
   "metadata": {},
   "outputs": [
    {
     "data": {
      "text/plain": [
       "True"
      ]
     },
     "execution_count": 3,
     "metadata": {},
     "output_type": "execute_result"
    }
   ],
   "source": [
    "'a' in data"
   ]
  },
  {
   "cell_type": "code",
   "execution_count": 4,
   "metadata": {},
   "outputs": [
    {
     "data": {
      "text/plain": [
       "Index(['a', 'b', 'c', 'd'], dtype='object')"
      ]
     },
     "execution_count": 4,
     "metadata": {},
     "output_type": "execute_result"
    }
   ],
   "source": [
    "data.keys()   # danh sach chia khoa"
   ]
  },
  {
   "cell_type": "code",
   "execution_count": 5,
   "metadata": {},
   "outputs": [
    {
     "data": {
      "text/plain": [
       "array([1, 2, 3, 4], dtype=int64)"
      ]
     },
     "execution_count": 5,
     "metadata": {},
     "output_type": "execute_result"
    }
   ],
   "source": [
    "data.values   # danh sach cac gtri ,\n",
    "              # luu ys ko cos dau ()\n"
   ]
  },
  {
   "cell_type": "code",
   "execution_count": 6,
   "metadata": {},
   "outputs": [
    {
     "data": {
      "text/plain": [
       "[('a', 1), ('b', 2), ('c', 3), ('d', 4)]"
      ]
     },
     "execution_count": 6,
     "metadata": {},
     "output_type": "execute_result"
    }
   ],
   "source": [
    "list(data.items())     # lấy các cặp khóa/giá trị trong một đối tượng"
   ]
  },
  {
   "cell_type": "code",
   "execution_count": 7,
   "metadata": {},
   "outputs": [
    {
     "data": {
      "text/plain": [
       "a    1.00\n",
       "b    2.00\n",
       "c    3.00\n",
       "d    4.00\n",
       "e    9.99\n",
       "dtype: float64"
      ]
     },
     "execution_count": 7,
     "metadata": {},
     "output_type": "execute_result"
    }
   ],
   "source": [
    "data['e']=9.99     #Mở rộng Series bằng cách gán cho một giá trị chỉ mục(index) mới:\n",
    "data       "
   ]
  },
  {
   "cell_type": "code",
   "execution_count": 8,
   "metadata": {},
   "outputs": [
    {
     "data": {
      "text/plain": [
       "a    1.0\n",
       "b    2.0\n",
       "c    3.0\n",
       "dtype: float64"
      ]
     },
     "execution_count": 8,
     "metadata": {},
     "output_type": "execute_result"
    }
   ],
   "source": [
    "#lấy các phần tử trong khoảng index từ a -> c (do người dùng định nghĩa)\n",
    "data['a':'c'] "
   ]
  },
  {
   "cell_type": "code",
   "execution_count": 9,
   "metadata": {},
   "outputs": [
    {
     "data": {
      "text/plain": [
       "a    1.0\n",
       "b    2.0\n",
       "dtype: float64"
      ]
     },
     "execution_count": 9,
     "metadata": {},
     "output_type": "execute_result"
    }
   ],
   "source": [
    "# lấy các phần tử có index là 0 và 1 không lấy 2.\n",
    "data[0:2] "
   ]
  },
  {
   "cell_type": "code",
   "execution_count": 10,
   "metadata": {},
   "outputs": [
    {
     "data": {
      "text/plain": [
       "a    False\n",
       "b     True\n",
       "c     True\n",
       "d    False\n",
       "e    False\n",
       "dtype: bool"
      ]
     },
     "execution_count": 10,
     "metadata": {},
     "output_type": "execute_result"
    }
   ],
   "source": [
    "#Masking\n",
    "mask=(data>1)&(data<4)\n",
    "mask "
   ]
  },
  {
   "cell_type": "code",
   "execution_count": 11,
   "metadata": {},
   "outputs": [
    {
     "data": {
      "text/plain": [
       "b    2.0\n",
       "c    3.0\n",
       "dtype: float64"
      ]
     },
     "execution_count": 11,
     "metadata": {},
     "output_type": "execute_result"
    }
   ],
   "source": [
    "data[mask] "
   ]
  },
  {
   "cell_type": "code",
   "execution_count": 12,
   "metadata": {},
   "outputs": [
    {
     "data": {
      "text/plain": [
       "b    2.0\n",
       "d    4.0\n",
       "dtype: float64"
      ]
     },
     "execution_count": 12,
     "metadata": {},
     "output_type": "execute_result"
    }
   ],
   "source": [
    "indices_1=['b','d'] #explicit index\n",
    "selection_1=data[indices_1]\n",
    "selection_1 "
   ]
  },
  {
   "cell_type": "markdown",
   "metadata": {},
   "source": [
    "*ARRAY MASKING"
   ]
  },
  {
   "cell_type": "code",
   "execution_count": 14,
   "metadata": {},
   "outputs": [
    {
     "data": {
      "text/plain": [
       "a    False\n",
       "b     True\n",
       "c     True\n",
       "d    False\n",
       "e    False\n",
       "dtype: bool"
      ]
     },
     "execution_count": 14,
     "metadata": {},
     "output_type": "execute_result"
    }
   ],
   "source": [
    "#Masking\n",
    "mask=(data>1)&(data<4)\n",
    "mask "
   ]
  },
  {
   "cell_type": "code",
   "execution_count": 16,
   "metadata": {},
   "outputs": [
    {
     "data": {
      "text/plain": [
       "b    2.0\n",
       "c    3.0\n",
       "dtype: float64"
      ]
     },
     "execution_count": 16,
     "metadata": {},
     "output_type": "execute_result"
    }
   ],
   "source": [
    "data[mask] "
   ]
  },
  {
   "cell_type": "code",
   "execution_count": 17,
   "metadata": {},
   "outputs": [
    {
     "data": {
      "text/plain": [
       "b    2.0\n",
       "d    4.0\n",
       "dtype: float64"
      ]
     },
     "execution_count": 17,
     "metadata": {},
     "output_type": "execute_result"
    }
   ],
   "source": [
    "indices_1=['b','d'] #explicit index\n",
    "selection_1=data[indices_1]\n",
    "selection_1 "
   ]
  },
  {
   "cell_type": "code",
   "execution_count": null,
   "metadata": {},
   "outputs": [],
   "source": [
    "data =pd.Series([1,2,3,4]), index=['a','b','c','d']\n"
   ]
  },
  {
   "cell_type": "code",
   "execution_count": 18,
   "metadata": {},
   "outputs": [
    {
     "data": {
      "text/plain": [
       "b    2.0\n",
       "d    4.0\n",
       "dtype: float64"
      ]
     },
     "execution_count": 18,
     "metadata": {},
     "output_type": "execute_result"
    }
   ],
   "source": [
    "indices_1=['b','d'] #explicit index\n",
    "selection_1=data[indices_1]\n",
    "selection_1 "
   ]
  },
  {
   "cell_type": "code",
   "execution_count": 19,
   "metadata": {},
   "outputs": [
    {
     "name": "stderr",
     "output_type": "stream",
     "text": [
      "C:\\Users\\admin\\AppData\\Local\\Temp\\ipykernel_12140\\862496429.py:2: FutureWarning: Series.__getitem__ treating keys as positions is deprecated. In a future version, integer keys will always be treated as labels (consistent with DataFrame behavior). To access a value by position, use `ser.iloc[pos]`\n",
      "  selection_2=data[indices_2]\n"
     ]
    },
    {
     "data": {
      "text/plain": [
       "b    2.0\n",
       "d    4.0\n",
       "dtype: float64"
      ]
     },
     "execution_count": 19,
     "metadata": {},
     "output_type": "execute_result"
    }
   ],
   "source": [
    "indices_2=[1,3] #implicit index\n",
    "selection_2=data[indices_2]\n",
    "selection_2 "
   ]
  },
  {
   "cell_type": "code",
   "execution_count": 20,
   "metadata": {},
   "outputs": [
    {
     "data": {
      "text/plain": [
       "b    2.0\n",
       "d    4.0\n",
       "dtype: float64"
      ]
     },
     "execution_count": 20,
     "metadata": {},
     "output_type": "execute_result"
    }
   ],
   "source": [
    "indices_1=['b','d'] #explicit index\n",
    "selection_1=data[indices_1]\n",
    "selection_1 "
   ]
  },
  {
   "cell_type": "code",
   "execution_count": 22,
   "metadata": {},
   "outputs": [
    {
     "data": {
      "text/plain": [
       "'a'"
      ]
     },
     "execution_count": 22,
     "metadata": {},
     "output_type": "execute_result"
    }
   ],
   "source": [
    "import pandas as pd\n",
    "data = pd.Series(['a','b','c','d','e'],index=[1,3,5,6,7]) \n",
    "data.loc[1]"
   ]
  },
  {
   "cell_type": "code",
   "execution_count": 24,
   "metadata": {},
   "outputs": [
    {
     "data": {
      "text/plain": [
       "1    a\n",
       "3    b\n",
       "dtype: object"
      ]
     },
     "execution_count": 24,
     "metadata": {},
     "output_type": "execute_result"
    }
   ],
   "source": [
    "data.loc[1:4]"
   ]
  },
  {
   "cell_type": "code",
   "execution_count": 25,
   "metadata": {},
   "outputs": [
    {
     "data": {
      "text/plain": [
       "'b'"
      ]
     },
     "execution_count": 25,
     "metadata": {},
     "output_type": "execute_result"
    }
   ],
   "source": [
    "data.iloc[1]"
   ]
  },
  {
   "cell_type": "code",
   "execution_count": 26,
   "metadata": {},
   "outputs": [
    {
     "name": "stdout",
     "output_type": "stream",
     "text": [
      "series data ban dau : \n",
      " 1    a\n",
      "3    b\n",
      "5    c\n",
      "6    d\n",
      "7    e\n",
      "dtype: object\n",
      "data.iloc: \n",
      " 3    b\n",
      "5    c\n",
      "6    d\n",
      "dtype: object\n"
     ]
    }
   ],
   "source": [
    "print ('series data ban dau : \\n', data)\n",
    "data.iloc[1:4]\n",
    "print('data.iloc: \\n',data.iloc[1:4])\n"
   ]
  },
  {
   "cell_type": "code",
   "execution_count": 51,
   "metadata": {},
   "outputs": [],
   "source": [
    "population = pd.Series({'ha noi':8330830,\n",
    "                        'quangninh':1358490,\n",
    "                        'nam dinh':1771000,\n",
    "                        'da nang':1191381,\n",
    "                        'tp.ho chi minh':9411805})\n",
    "area=pd.Series({'ha noi':3358.9,\n",
    "                'quangninh':6177.7,\n",
    "                'nam dinh':1665.0,\n",
    "                'da nang':1284.9,\n",
    "                'tp.ho chi minh':2061.0})\n",
    "data = pd.DataFrame({'Dân số':population,'Diện tích':area})"
   ]
  },
  {
   "cell_type": "code",
   "execution_count": 52,
   "metadata": {},
   "outputs": [
    {
     "data": {
      "text/plain": [
       "ha noi            8330830\n",
       "quangninh         1358490\n",
       "nam dinh          1771000\n",
       "da nang           1191381\n",
       "tp.ho chi minh    9411805\n",
       "Name: Dân số, dtype: int64"
      ]
     },
     "execution_count": 52,
     "metadata": {},
     "output_type": "execute_result"
    }
   ],
   "source": [
    "data['Dân số']"
   ]
  },
  {
   "cell_type": "code",
   "execution_count": 55,
   "metadata": {},
   "outputs": [
    {
     "name": "stdout",
     "output_type": "stream",
     "text": [
      "                 Dân số  Diện tích  population\n",
      "ha noi          8330830     3358.9     8330830\n",
      "quangninh       1358490     6177.7     1358490\n",
      "nam dinh        1771000     1665.0     1771000\n",
      "da nang         1191381     1284.9     1191381\n",
      "tp.ho chi minh  9411805     2061.0     9411805\n"
     ]
    }
   ],
   "source": [
    "data['population'] = data['Dân số']\n",
    "print(data)"
   ]
  },
  {
   "cell_type": "code",
   "execution_count": 57,
   "metadata": {},
   "outputs": [
    {
     "data": {
      "text/plain": [
       "ha noi            8330830\n",
       "quangninh         1358490\n",
       "nam dinh          1771000\n",
       "da nang           1191381\n",
       "tp.ho chi minh    9411805\n",
       "Name: population, dtype: int64"
      ]
     },
     "execution_count": 57,
     "metadata": {},
     "output_type": "execute_result"
    }
   ],
   "source": [
    "data.population"
   ]
  },
  {
   "cell_type": "code",
   "execution_count": 59,
   "metadata": {},
   "outputs": [
    {
     "data": {
      "text/html": [
       "<div>\n",
       "<style scoped>\n",
       "    .dataframe tbody tr th:only-of-type {\n",
       "        vertical-align: middle;\n",
       "    }\n",
       "\n",
       "    .dataframe tbody tr th {\n",
       "        vertical-align: top;\n",
       "    }\n",
       "\n",
       "    .dataframe thead th {\n",
       "        text-align: right;\n",
       "    }\n",
       "</style>\n",
       "<table border=\"1\" class=\"dataframe\">\n",
       "  <thead>\n",
       "    <tr style=\"text-align: right;\">\n",
       "      <th></th>\n",
       "      <th>Dân số</th>\n",
       "      <th>Diện tích</th>\n",
       "      <th>population</th>\n",
       "      <th>mat do</th>\n",
       "    </tr>\n",
       "  </thead>\n",
       "  <tbody>\n",
       "    <tr>\n",
       "      <th>ha noi</th>\n",
       "      <td>8330830</td>\n",
       "      <td>3358.9</td>\n",
       "      <td>8330830</td>\n",
       "      <td>2480.225669</td>\n",
       "    </tr>\n",
       "    <tr>\n",
       "      <th>quangninh</th>\n",
       "      <td>1358490</td>\n",
       "      <td>6177.7</td>\n",
       "      <td>1358490</td>\n",
       "      <td>219.902229</td>\n",
       "    </tr>\n",
       "    <tr>\n",
       "      <th>nam dinh</th>\n",
       "      <td>1771000</td>\n",
       "      <td>1665.0</td>\n",
       "      <td>1771000</td>\n",
       "      <td>1063.663664</td>\n",
       "    </tr>\n",
       "    <tr>\n",
       "      <th>da nang</th>\n",
       "      <td>1191381</td>\n",
       "      <td>1284.9</td>\n",
       "      <td>1191381</td>\n",
       "      <td>927.216904</td>\n",
       "    </tr>\n",
       "    <tr>\n",
       "      <th>tp.ho chi minh</th>\n",
       "      <td>9411805</td>\n",
       "      <td>2061.0</td>\n",
       "      <td>9411805</td>\n",
       "      <td>4566.620573</td>\n",
       "    </tr>\n",
       "  </tbody>\n",
       "</table>\n",
       "</div>"
      ],
      "text/plain": [
       "                 Dân số  Diện tích  population       mat do\n",
       "ha noi          8330830     3358.9     8330830  2480.225669\n",
       "quangninh       1358490     6177.7     1358490   219.902229\n",
       "nam dinh        1771000     1665.0     1771000  1063.663664\n",
       "da nang         1191381     1284.9     1191381   927.216904\n",
       "tp.ho chi minh  9411805     2061.0     9411805  4566.620573"
      ]
     },
     "execution_count": 59,
     "metadata": {},
     "output_type": "execute_result"
    }
   ],
   "source": [
    "data['mat do']=data['Dân số']/data['Diện tích']\n",
    "data "
   ]
  },
  {
   "cell_type": "code",
   "execution_count": 60,
   "metadata": {},
   "outputs": [
    {
     "name": "stdout",
     "output_type": "stream",
     "text": [
      "[[8.33083000e+06 3.35890000e+03 8.33083000e+06 2.48022567e+03]\n",
      " [1.35849000e+06 6.17770000e+03 1.35849000e+06 2.19902229e+02]\n",
      " [1.77100000e+06 1.66500000e+03 1.77100000e+06 1.06366366e+03]\n",
      " [1.19138100e+06 1.28490000e+03 1.19138100e+06 9.27216904e+02]\n",
      " [9.41180500e+06 2.06100000e+03 9.41180500e+06 4.56662057e+03]]\n"
     ]
    }
   ],
   "source": [
    "arr_data = data.values # Lấy mảng dữ liệu gốc từ DataFrameprint(arr_data)\n",
    "print(arr_data)"
   ]
  },
  {
   "cell_type": "code",
   "execution_count": 61,
   "metadata": {},
   "outputs": [],
   "source": [
    "arr_data = data.values # Lấy mảng dữ liệu gốc từ DataFrameprint(arr_data)"
   ]
  },
  {
   "cell_type": "code",
   "execution_count": 62,
   "metadata": {},
   "outputs": [
    {
     "data": {
      "text/html": [
       "<div>\n",
       "<style scoped>\n",
       "    .dataframe tbody tr th:only-of-type {\n",
       "        vertical-align: middle;\n",
       "    }\n",
       "\n",
       "    .dataframe tbody tr th {\n",
       "        vertical-align: top;\n",
       "    }\n",
       "\n",
       "    .dataframe thead th {\n",
       "        text-align: right;\n",
       "    }\n",
       "</style>\n",
       "<table border=\"1\" class=\"dataframe\">\n",
       "  <thead>\n",
       "    <tr style=\"text-align: right;\">\n",
       "      <th></th>\n",
       "      <th>ha noi</th>\n",
       "      <th>quangninh</th>\n",
       "      <th>nam dinh</th>\n",
       "      <th>da nang</th>\n",
       "      <th>tp.ho chi minh</th>\n",
       "    </tr>\n",
       "  </thead>\n",
       "  <tbody>\n",
       "    <tr>\n",
       "      <th>Dân số</th>\n",
       "      <td>8.330830e+06</td>\n",
       "      <td>1.358490e+06</td>\n",
       "      <td>1.771000e+06</td>\n",
       "      <td>1.191381e+06</td>\n",
       "      <td>9.411805e+06</td>\n",
       "    </tr>\n",
       "    <tr>\n",
       "      <th>Diện tích</th>\n",
       "      <td>3.358900e+03</td>\n",
       "      <td>6.177700e+03</td>\n",
       "      <td>1.665000e+03</td>\n",
       "      <td>1.284900e+03</td>\n",
       "      <td>2.061000e+03</td>\n",
       "    </tr>\n",
       "    <tr>\n",
       "      <th>population</th>\n",
       "      <td>8.330830e+06</td>\n",
       "      <td>1.358490e+06</td>\n",
       "      <td>1.771000e+06</td>\n",
       "      <td>1.191381e+06</td>\n",
       "      <td>9.411805e+06</td>\n",
       "    </tr>\n",
       "    <tr>\n",
       "      <th>mat do</th>\n",
       "      <td>2.480226e+03</td>\n",
       "      <td>2.199022e+02</td>\n",
       "      <td>1.063664e+03</td>\n",
       "      <td>9.272169e+02</td>\n",
       "      <td>4.566621e+03</td>\n",
       "    </tr>\n",
       "  </tbody>\n",
       "</table>\n",
       "</div>"
      ],
      "text/plain": [
       "                  ha noi     quangninh      nam dinh       da nang  \\\n",
       "Dân số      8.330830e+06  1.358490e+06  1.771000e+06  1.191381e+06   \n",
       "Diện tích   3.358900e+03  6.177700e+03  1.665000e+03  1.284900e+03   \n",
       "population  8.330830e+06  1.358490e+06  1.771000e+06  1.191381e+06   \n",
       "mat do      2.480226e+03  2.199022e+02  1.063664e+03  9.272169e+02   \n",
       "\n",
       "            tp.ho chi minh  \n",
       "Dân số        9.411805e+06  \n",
       "Diện tích     2.061000e+03  \n",
       "population    9.411805e+06  \n",
       "mat do        4.566621e+03  "
      ]
     },
     "execution_count": 62,
     "metadata": {},
     "output_type": "execute_result"
    }
   ],
   "source": [
    "data.T "
   ]
  },
  {
   "cell_type": "code",
   "execution_count": 63,
   "metadata": {},
   "outputs": [
    {
     "name": "stdout",
     "output_type": "stream",
     "text": [
      "Cách 1, sử dụng chuyển vị: [3358.9 6177.7 1665.  1284.9 2061. ]\n",
      "Cách 2, sử dụng chỉ mục(index):  [3358.9 6177.7 1665.  1284.9 2061. ]\n"
     ]
    }
   ],
   "source": [
    "print(\"Cách 1, sử dụng chuyển vị:\", data.T.values[1]) \n",
    "print(\"Cách 2, sử dụng chỉ mục(index): \", data['Diện tích'].values)"
   ]
  },
  {
   "cell_type": "code",
   "execution_count": 65,
   "metadata": {},
   "outputs": [
    {
     "name": "stdout",
     "output_type": "stream",
     "text": [
      "                 Dân số  Diện tích  population       mat do\n",
      "ha noi          8330830     3358.9     8330830  2480.225669\n",
      "quangninh       1358490     6177.7     1358490   219.902229\n",
      "nam dinh        1771000     1665.0     1771000  1063.663664\n",
      "da nang         1191381     1284.9     1191381   927.216904\n",
      "tp.ho chi minh  9411805     2061.0     9411805  4566.620573\n"
     ]
    },
    {
     "ename": "KeyError",
     "evalue": "'Hà Nội'",
     "output_type": "error",
     "traceback": [
      "\u001b[1;31m---------------------------------------------------------------------------\u001b[0m",
      "\u001b[1;31mKeyError\u001b[0m                                  Traceback (most recent call last)",
      "File \u001b[1;32m~\\AppData\\Local\\Packages\\PythonSoftwareFoundation.Python.3.11_qbz5n2kfra8p0\\LocalCache\\local-packages\\Python311\\site-packages\\pandas\\core\\indexes\\base.py:3790\u001b[0m, in \u001b[0;36mIndex.get_loc\u001b[1;34m(self, key)\u001b[0m\n\u001b[0;32m   3789\u001b[0m \u001b[39mtry\u001b[39;00m:\n\u001b[1;32m-> 3790\u001b[0m     \u001b[39mreturn\u001b[39;00m \u001b[39mself\u001b[39;49m\u001b[39m.\u001b[39;49m_engine\u001b[39m.\u001b[39;49mget_loc(casted_key)\n\u001b[0;32m   3791\u001b[0m \u001b[39mexcept\u001b[39;00m \u001b[39mKeyError\u001b[39;00m \u001b[39mas\u001b[39;00m err:\n",
      "File \u001b[1;32mindex.pyx:152\u001b[0m, in \u001b[0;36mpandas._libs.index.IndexEngine.get_loc\u001b[1;34m()\u001b[0m\n",
      "File \u001b[1;32mindex.pyx:181\u001b[0m, in \u001b[0;36mpandas._libs.index.IndexEngine.get_loc\u001b[1;34m()\u001b[0m\n",
      "File \u001b[1;32mpandas\\_libs\\hashtable_class_helper.pxi:7080\u001b[0m, in \u001b[0;36mpandas._libs.hashtable.PyObjectHashTable.get_item\u001b[1;34m()\u001b[0m\n",
      "File \u001b[1;32mpandas\\_libs\\hashtable_class_helper.pxi:7088\u001b[0m, in \u001b[0;36mpandas._libs.hashtable.PyObjectHashTable.get_item\u001b[1;34m()\u001b[0m\n",
      "\u001b[1;31mKeyError\u001b[0m: 'Hà Nội'",
      "\nThe above exception was the direct cause of the following exception:\n",
      "\u001b[1;31mKeyError\u001b[0m                                  Traceback (most recent call last)",
      "\u001b[1;32md:\\python nâng cao\\chương 4\\vd4.4.1.ipynb Cell 33\u001b[0m line \u001b[0;36m4\n\u001b[0;32m      <a href='vscode-notebook-cell:/d%3A/python%20n%C3%A2ng%20cao/ch%C6%B0%C6%A1ng%204/vd4.4.1.ipynb#X41sZmlsZQ%3D%3D?line=1'>2</a>\u001b[0m \u001b[39mprint\u001b[39m(data)\n\u001b[0;32m      <a href='vscode-notebook-cell:/d%3A/python%20n%C3%A2ng%20cao/ch%C6%B0%C6%A1ng%204/vd4.4.1.ipynb#X41sZmlsZQ%3D%3D?line=2'>3</a>\u001b[0m \u001b[39m#Lấy hàng đầu tiên\u001b[39;00m\n\u001b[1;32m----> <a href='vscode-notebook-cell:/d%3A/python%20n%C3%A2ng%20cao/ch%C6%B0%C6%A1ng%204/vd4.4.1.ipynb#X41sZmlsZQ%3D%3D?line=3'>4</a>\u001b[0m \u001b[39mprint\u001b[39m(\u001b[39m'\u001b[39m\u001b[39m\\n\u001b[39;00m\u001b[39m Dữ liệu của Hà Nội:\u001b[39m\u001b[39m\\n\u001b[39;00m\u001b[39m'\u001b[39m,data\u001b[39m.\u001b[39;49mloc[\u001b[39m'\u001b[39;49m\u001b[39mHà Nội\u001b[39;49m\u001b[39m'\u001b[39;49m])\n\u001b[0;32m      <a href='vscode-notebook-cell:/d%3A/python%20n%C3%A2ng%20cao/ch%C6%B0%C6%A1ng%204/vd4.4.1.ipynb#X41sZmlsZQ%3D%3D?line=4'>5</a>\u001b[0m \u001b[39m#Lấy dữ liệu 3 hàng đầu tiên\u001b[39;00m\n\u001b[0;32m      <a href='vscode-notebook-cell:/d%3A/python%20n%C3%A2ng%20cao/ch%C6%B0%C6%A1ng%204/vd4.4.1.ipynb#X41sZmlsZQ%3D%3D?line=5'>6</a>\u001b[0m \u001b[39mprint\u001b[39m(\u001b[39m\"\u001b[39m\u001b[39m\\n\u001b[39;00m\u001b[39m Dữ liệu của hanoi, quang ninh và nam dinh:\u001b[39m\u001b[39m\\n\u001b[39;00m\u001b[39m\"\u001b[39m,data\u001b[39m.\u001b[39mloc[:\u001b[39m'\u001b[39m\u001b[39mnam dinh\u001b[39m\u001b[39m'\u001b[39m]) \u001b[39m#Dữ liệu của 2 hàng và 2 cột đầu tiên\u001b[39;00m\n",
      "File \u001b[1;32m~\\AppData\\Local\\Packages\\PythonSoftwareFoundation.Python.3.11_qbz5n2kfra8p0\\LocalCache\\local-packages\\Python311\\site-packages\\pandas\\core\\indexing.py:1153\u001b[0m, in \u001b[0;36m_LocationIndexer.__getitem__\u001b[1;34m(self, key)\u001b[0m\n\u001b[0;32m   1150\u001b[0m axis \u001b[39m=\u001b[39m \u001b[39mself\u001b[39m\u001b[39m.\u001b[39maxis \u001b[39mor\u001b[39;00m \u001b[39m0\u001b[39m\n\u001b[0;32m   1152\u001b[0m maybe_callable \u001b[39m=\u001b[39m com\u001b[39m.\u001b[39mapply_if_callable(key, \u001b[39mself\u001b[39m\u001b[39m.\u001b[39mobj)\n\u001b[1;32m-> 1153\u001b[0m \u001b[39mreturn\u001b[39;00m \u001b[39mself\u001b[39;49m\u001b[39m.\u001b[39;49m_getitem_axis(maybe_callable, axis\u001b[39m=\u001b[39;49maxis)\n",
      "File \u001b[1;32m~\\AppData\\Local\\Packages\\PythonSoftwareFoundation.Python.3.11_qbz5n2kfra8p0\\LocalCache\\local-packages\\Python311\\site-packages\\pandas\\core\\indexing.py:1393\u001b[0m, in \u001b[0;36m_LocIndexer._getitem_axis\u001b[1;34m(self, key, axis)\u001b[0m\n\u001b[0;32m   1391\u001b[0m \u001b[39m# fall thru to straight lookup\u001b[39;00m\n\u001b[0;32m   1392\u001b[0m \u001b[39mself\u001b[39m\u001b[39m.\u001b[39m_validate_key(key, axis)\n\u001b[1;32m-> 1393\u001b[0m \u001b[39mreturn\u001b[39;00m \u001b[39mself\u001b[39;49m\u001b[39m.\u001b[39;49m_get_label(key, axis\u001b[39m=\u001b[39;49maxis)\n",
      "File \u001b[1;32m~\\AppData\\Local\\Packages\\PythonSoftwareFoundation.Python.3.11_qbz5n2kfra8p0\\LocalCache\\local-packages\\Python311\\site-packages\\pandas\\core\\indexing.py:1343\u001b[0m, in \u001b[0;36m_LocIndexer._get_label\u001b[1;34m(self, label, axis)\u001b[0m\n\u001b[0;32m   1341\u001b[0m \u001b[39mdef\u001b[39;00m \u001b[39m_get_label\u001b[39m(\u001b[39mself\u001b[39m, label, axis: AxisInt):\n\u001b[0;32m   1342\u001b[0m     \u001b[39m# GH#5567 this will fail if the label is not present in the axis.\u001b[39;00m\n\u001b[1;32m-> 1343\u001b[0m     \u001b[39mreturn\u001b[39;00m \u001b[39mself\u001b[39;49m\u001b[39m.\u001b[39;49mobj\u001b[39m.\u001b[39;49mxs(label, axis\u001b[39m=\u001b[39;49maxis)\n",
      "File \u001b[1;32m~\\AppData\\Local\\Packages\\PythonSoftwareFoundation.Python.3.11_qbz5n2kfra8p0\\LocalCache\\local-packages\\Python311\\site-packages\\pandas\\core\\generic.py:4236\u001b[0m, in \u001b[0;36mNDFrame.xs\u001b[1;34m(self, key, axis, level, drop_level)\u001b[0m\n\u001b[0;32m   4234\u001b[0m             new_index \u001b[39m=\u001b[39m index[loc]\n\u001b[0;32m   4235\u001b[0m \u001b[39melse\u001b[39;00m:\n\u001b[1;32m-> 4236\u001b[0m     loc \u001b[39m=\u001b[39m index\u001b[39m.\u001b[39;49mget_loc(key)\n\u001b[0;32m   4238\u001b[0m     \u001b[39mif\u001b[39;00m \u001b[39misinstance\u001b[39m(loc, np\u001b[39m.\u001b[39mndarray):\n\u001b[0;32m   4239\u001b[0m         \u001b[39mif\u001b[39;00m loc\u001b[39m.\u001b[39mdtype \u001b[39m==\u001b[39m np\u001b[39m.\u001b[39mbool_:\n",
      "File \u001b[1;32m~\\AppData\\Local\\Packages\\PythonSoftwareFoundation.Python.3.11_qbz5n2kfra8p0\\LocalCache\\local-packages\\Python311\\site-packages\\pandas\\core\\indexes\\base.py:3797\u001b[0m, in \u001b[0;36mIndex.get_loc\u001b[1;34m(self, key)\u001b[0m\n\u001b[0;32m   3792\u001b[0m     \u001b[39mif\u001b[39;00m \u001b[39misinstance\u001b[39m(casted_key, \u001b[39mslice\u001b[39m) \u001b[39mor\u001b[39;00m (\n\u001b[0;32m   3793\u001b[0m         \u001b[39misinstance\u001b[39m(casted_key, abc\u001b[39m.\u001b[39mIterable)\n\u001b[0;32m   3794\u001b[0m         \u001b[39mand\u001b[39;00m \u001b[39many\u001b[39m(\u001b[39misinstance\u001b[39m(x, \u001b[39mslice\u001b[39m) \u001b[39mfor\u001b[39;00m x \u001b[39min\u001b[39;00m casted_key)\n\u001b[0;32m   3795\u001b[0m     ):\n\u001b[0;32m   3796\u001b[0m         \u001b[39mraise\u001b[39;00m InvalidIndexError(key)\n\u001b[1;32m-> 3797\u001b[0m     \u001b[39mraise\u001b[39;00m \u001b[39mKeyError\u001b[39;00m(key) \u001b[39mfrom\u001b[39;00m \u001b[39merr\u001b[39;00m\n\u001b[0;32m   3798\u001b[0m \u001b[39mexcept\u001b[39;00m \u001b[39mTypeError\u001b[39;00m:\n\u001b[0;32m   3799\u001b[0m     \u001b[39m# If we have a listlike key, _check_indexing_error will raise\u001b[39;00m\n\u001b[0;32m   3800\u001b[0m     \u001b[39m#  InvalidIndexError. Otherwise we fall through and re-raise\u001b[39;00m\n\u001b[0;32m   3801\u001b[0m     \u001b[39m#  the TypeError.\u001b[39;00m\n\u001b[0;32m   3802\u001b[0m     \u001b[39mself\u001b[39m\u001b[39m.\u001b[39m_check_indexing_error(key)\n",
      "\u001b[1;31mKeyError\u001b[0m: 'Hà Nội'"
     ]
    }
   ],
   "source": [
    "#Sử dụng loc\n",
    "print(data)\n",
    "#Lấy hàng đầu tiên\n",
    "print('\\n Dữ liệu của Hà Nội:\\n',data.loc['Hà Nội'])\n",
    "#Lấy dữ liệu 3 hàng đầu tiên\n",
    "print(\"\\n Dữ liệu của hanoi, quang ninh và nam dinh:\\n\",data.loc[:'nam dinh']) #Dữ liệu của 2 hàng và 2 cột đầu tiên\n",
    "print(\"\\nDữ liệu dân số, diện tích của ha noi, quang ninh:\\n\",data.loc[:'quang ninh',:'Diện tích']) #Lấy dữ liệu của tất cả các hàng và các cột cuối cùng \n",
    "print(\"\\n Mật độ dân số các Tỉnh/Thành phố:\\n\",data.loc[:,'mat do']) "
   ]
  },
  {
   "cell_type": "code",
   "execution_count": 46,
   "metadata": {},
   "outputs": [
    {
     "name": "stdout",
     "output_type": "stream",
     "text": [
      "                 danso   dien tich\n",
      "ha noi          8330830     3358.9\n",
      "quangninh       1358490     6177.7\n",
      "nam dinh        1771000     1665.0\n",
      "da nang         1191381     1284.9\n",
      "tp.ho chi minh  9411805     2061.0\n",
      "\n",
      "Dữ liệu của thủ đô Hà Nội:\n",
      " danso        8330830.0\n",
      "dien tich       3358.9\n",
      "Name: ha noi, dtype: float64\n",
      "\n",
      "Dữ liệu của Hà Nội, Quảng Ninh và Nam Định:\n",
      "             danso   dien tich\n",
      "ha noi     8330830     3358.9\n",
      "quangninh  1358490     6177.7\n",
      "nam dinh   1771000     1665.0\n",
      "\n",
      "Dữ liệu dân số và diện tích của Hà Nội và Quảng Ninh:\n",
      "             danso   dien tich\n",
      "ha noi     8330830     3358.9\n",
      "quangninh  1358490     6177.7\n",
      "Mật độ dân số của các tỉnh/thành phố:\n",
      " ha noi            3358.9\n",
      "quangninh         6177.7\n",
      "nam dinh          1665.0\n",
      "da nang           1284.9\n",
      "tp.ho chi minh    2061.0\n",
      "Name: dien tich, dtype: float64\n"
     ]
    }
   ],
   "source": [
    "print(data)\n",
    "#Lấy hàng đầu tiên\n",
    "print(\"\\nDữ liệu của thủ đô Hà Nội:\\n\",data.iloc[0])\n",
    "#Lấy dữ liệu 3 hàng đầu tiên\n",
    "print(\"\\nDữ liệu của Hà Nội, Quảng Ninh và Nam Định:\\n\",data.iloc[0:3]) #Lấy dữ liệu 2 hàng, 2 cột đầu tiên\n",
    "print(\"\\nDữ liệu dân số và diện tích của Hà Nội và Quảng Ninh:\\n\",data.iloc[:2,:2])#Lấy dữ liệu về mật độ dân số của các tỉnh còn lại \n",
    "print(\"Mật độ dân số của các tỉnh/thành phố:\\n\",data.iloc[:,-1]) "
   ]
  },
  {
   "cell_type": "code",
   "execution_count": 67,
   "metadata": {},
   "outputs": [
    {
     "name": "stdout",
     "output_type": "stream",
     "text": [
      "                 Dân số       mat do\n",
      "ha noi          8330830  2480.225669\n",
      "quangninh       1358490   219.902229\n",
      "tp.ho chi minh  9411805  4566.620573\n"
     ]
    }
   ],
   "source": [
    "#Lấy dữ liệu dân số và mật độ các tỉnh/TP có diện tích > 2000km2.\n",
    "print(data.loc[data['Diện tích'] > 2000, ['Dân số', 'mat do']]) "
   ]
  },
  {
   "cell_type": "code",
   "execution_count": 69,
   "metadata": {},
   "outputs": [
    {
     "name": "stdout",
     "output_type": "stream",
     "text": [
      "                 Dân số  Diện tích  population       mat do\n",
      "ha noi          8330830     3358.9     8330830  2480.225669\n",
      "quangninh       1358490     6177.7     1358490   219.902229\n",
      "nam dinh        1771000     1665.0     1771000  1063.663664\n",
      "da nang         1191381     1284.9     1191381   927.216904\n",
      "tp.ho chi minh  9411805     2061.0     9411805  4566.620573\n",
      "\n",
      "Dữ liệu của thủ đô Hà Nội:\n",
      " Dân số        8.330830e+06\n",
      "Diện tích     3.358900e+03\n",
      "population    8.330830e+06\n",
      "mat do        2.480226e+03\n",
      "Name: ha noi, dtype: float64\n",
      "\n",
      "Dữ liệu của Hà Nội, Quảng Ninh và Nam Định:\n",
      "             Dân số  Diện tích  population       mat do\n",
      "ha noi     8330830     3358.9     8330830  2480.225669\n",
      "quangninh  1358490     6177.7     1358490   219.902229\n",
      "nam dinh   1771000     1665.0     1771000  1063.663664\n",
      "\n",
      "Dữ liệu dân số và diện tích của Hà Nội và Quảng Ninh:\n",
      "             Dân số  Diện tích\n",
      "ha noi     8330830     3358.9\n",
      "quangninh  1358490     6177.7\n",
      "Mật độ dân số của các tỉnh/thành phố:\n",
      " ha noi            2480.225669\n",
      "quangninh          219.902229\n",
      "nam dinh          1063.663664\n",
      "da nang            927.216904\n",
      "tp.ho chi minh    4566.620573\n",
      "Name: mat do, dtype: float64\n"
     ]
    }
   ],
   "source": [
    "print(data)\n",
    "#Lấy hàng đầu tiên\n",
    "print(\"\\nDữ liệu của thủ đô Hà Nội:\\n\",data.iloc[0])\n",
    "#Lấy dữ liệu 3 hàng đầu tiên\n",
    "print(\"\\nDữ liệu của Hà Nội, Quảng Ninh và Nam Định:\\n\",data.iloc[0:3]) #Lấy dữ liệu 2 hàng, 2 cột đầu tiên\n",
    "print(\"\\nDữ liệu dân số và diện tích của Hà Nội và Quảng Ninh:\\n\",data.iloc[:2,:2])#Lấy dữ liệu về mật độ dân số của các tỉnh còn lại \n",
    "print(\"Mật độ dân số của các tỉnh/thành phố:\\n\",data.iloc[:,-1]) "
   ]
  },
  {
   "cell_type": "code",
   "execution_count": null,
   "metadata": {},
   "outputs": [],
   "source": []
  }
 ],
 "metadata": {
  "kernelspec": {
   "display_name": "Python 3",
   "language": "python",
   "name": "python3"
  },
  "language_info": {
   "codemirror_mode": {
    "name": "ipython",
    "version": 3
   },
   "file_extension": ".py",
   "mimetype": "text/x-python",
   "name": "python",
   "nbconvert_exporter": "python",
   "pygments_lexer": "ipython3",
   "version": "3.11.6"
  }
 },
 "nbformat": 4,
 "nbformat_minor": 2
}
